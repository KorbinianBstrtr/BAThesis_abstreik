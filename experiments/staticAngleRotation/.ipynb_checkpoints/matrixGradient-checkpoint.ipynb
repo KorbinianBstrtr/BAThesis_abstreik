{
 "cells": [
  {
   "cell_type": "code",
   "execution_count": 1,
   "metadata": {
    "collapsed": true
   },
   "outputs": [],
   "source": [
    "import pandas as pd"
   ]
  },
  {
   "cell_type": "code",
   "execution_count": 2,
   "metadata": {
    "collapsed": true
   },
   "outputs": [],
   "source": [
    "points = pd.read_csv(\"rotated_points.csv\", nrows=500)"
   ]
  },
  {
   "cell_type": "code",
   "execution_count": 3,
   "metadata": {},
   "outputs": [
    {
     "data": {
      "text/html": [
       "<div>\n",
       "<style>\n",
       "    .dataframe thead tr:only-child th {\n",
       "        text-align: right;\n",
       "    }\n",
       "\n",
       "    .dataframe thead th {\n",
       "        text-align: left;\n",
       "    }\n",
       "\n",
       "    .dataframe tbody tr th {\n",
       "        vertical-align: top;\n",
       "    }\n",
       "</style>\n",
       "<table border=\"1\" class=\"dataframe\">\n",
       "  <thead>\n",
       "    <tr style=\"text-align: right;\">\n",
       "      <th></th>\n",
       "      <th>x1</th>\n",
       "      <th>y1</th>\n",
       "      <th>x2</th>\n",
       "      <th>y2</th>\n",
       "    </tr>\n",
       "  </thead>\n",
       "  <tbody>\n",
       "    <tr>\n",
       "      <th>0</th>\n",
       "      <td>-0.545621</td>\n",
       "      <td>0.838032</td>\n",
       "      <td>-0.978391</td>\n",
       "      <td>0.206765</td>\n",
       "    </tr>\n",
       "    <tr>\n",
       "      <th>1</th>\n",
       "      <td>0.664113</td>\n",
       "      <td>-0.747632</td>\n",
       "      <td>0.998255</td>\n",
       "      <td>-0.059057</td>\n",
       "    </tr>\n",
       "    <tr>\n",
       "      <th>2</th>\n",
       "      <td>0.627280</td>\n",
       "      <td>-0.778793</td>\n",
       "      <td>0.994244</td>\n",
       "      <td>-0.107136</td>\n",
       "    </tr>\n",
       "    <tr>\n",
       "      <th>3</th>\n",
       "      <td>0.886203</td>\n",
       "      <td>-0.463297</td>\n",
       "      <td>0.954241</td>\n",
       "      <td>0.299039</td>\n",
       "    </tr>\n",
       "    <tr>\n",
       "      <th>4</th>\n",
       "      <td>-0.999402</td>\n",
       "      <td>-0.034592</td>\n",
       "      <td>-0.682224</td>\n",
       "      <td>-0.731144</td>\n",
       "    </tr>\n",
       "  </tbody>\n",
       "</table>\n",
       "</div>"
      ],
      "text/plain": [
       "         x1        y1        x2        y2\n",
       "0 -0.545621  0.838032 -0.978391  0.206765\n",
       "1  0.664113 -0.747632  0.998255 -0.059057\n",
       "2  0.627280 -0.778793  0.994244 -0.107136\n",
       "3  0.886203 -0.463297  0.954241  0.299039\n",
       "4 -0.999402 -0.034592 -0.682224 -0.731144"
      ]
     },
     "execution_count": 3,
     "metadata": {},
     "output_type": "execute_result"
    }
   ],
   "source": [
    "points.head()"
   ]
  },
  {
   "cell_type": "markdown",
   "metadata": {},
   "source": [
    "# Training"
   ]
  },
  {
   "cell_type": "code",
   "execution_count": 4,
   "metadata": {
    "collapsed": true
   },
   "outputs": [],
   "source": [
    "import torch\n",
    "import torch.nn as nn\n",
    "from torch.optim import Adam\n",
    "from torch.autograd import Variable\n",
    "from torch.utils.data import DataLoader,TensorDataset\n",
    "import numpy as np\n",
    "import matplotlib.pyplot as plt\n",
    "import RotationMatrix"
   ]
  },
  {
   "cell_type": "code",
   "execution_count": 21,
   "metadata": {},
   "outputs": [],
   "source": [
    "X = torch.FloatTensor(points[[\"x1\", \"y1\"]].values)\n",
    "y = torch.FloatTensor(points[[\"x2\", \"y2\"]].values)\n",
    "train = TensorDataset(X, y)\n",
    "train_loader = lambda batch_size: DataLoader(train, batch_size=batch_size, shuffle=False)"
   ]
  },
  {
   "cell_type": "code",
   "execution_count": 22,
   "metadata": {
    "collapsed": true
   },
   "outputs": [],
   "source": [
    "def l2_loss(error):\n",
    "    return sum([sum([e ** 2 for e in error_vec]) for error_vec in error]) / len(error)"
   ]
  },
  {
   "cell_type": "code",
   "execution_count": 23,
   "metadata": {
    "collapsed": true
   },
   "outputs": [],
   "source": [
    "def det_loss(rotation_matrix):\n",
    "    return rotation_matrix[0][0] * rotation_matrix[1][1] - rotation_matrix[0][1] * rotation_matrix[1][0]"
   ]
  },
  {
   "cell_type": "code",
   "execution_count": 24,
   "metadata": {},
   "outputs": [],
   "source": [
    "true_rotation_matrix = torch.tensor(RotationMatrix.get_matrix(), dtype=torch.float32)\n",
    "\n",
    "# returns the norm of the difference of the matrix to the true rotation matrix\n",
    "def matrix_loss(rotation_matrix):\n",
    "    return (rotation_matrix - true_rotation_matrix).norm()"
   ]
  },
  {
   "cell_type": "code",
   "execution_count": 25,
   "metadata": {
    "collapsed": true
   },
   "outputs": [],
   "source": [
    "rotation_matrix_start = torch.randn(2, 2)\n",
    "new_rotation_matrix = lambda: Variable(rotation_matrix_start.clone(), requires_grad=True)"
   ]
  },
  {
   "cell_type": "markdown",
   "metadata": {},
   "source": [
    "## Finding a baseline"
   ]
  },
  {
   "cell_type": "code",
   "execution_count": 40,
   "metadata": {
    "collapsed": true
   },
   "outputs": [],
   "source": [
    "learning_rates = [1e-0, 0.5, 1e-1, 1e-2, 1e-3][:3]\n",
    "optimizers = [\"gd\", \"adam\"]\n",
    "paramsets = [{\"opt\": opt, \"lr\": lr} for opt in optimizers for lr in learning_rates]"
   ]
  },
  {
   "cell_type": "code",
   "execution_count": 41,
   "metadata": {},
   "outputs": [
    {
     "data": {
      "image/png": "[encoded data removed]",
      "text/plain": [
       "<matplotlib.figure.Figure at 0x120607ba8>"
      ]
     },
     "metadata": {},
     "output_type": "display_data"
    }
   ],
   "source": [
    "# train using basic gradient descent, no optimizer\n",
    "rotation_matrices = [new_rotation_matrix() for _ in paramsets]\n",
    "optimizers = [Adam([rotation_matrices[i]], lr=params[\"lr\"]) if params[\"opt\"] == \"adam\" \n",
    "              else None \n",
    "              for i, params in enumerate(paramsets)]\n",
    "matrix_losses = [[] for _ in paramsets]\n",
    "for x_batch, y_batch in train_loader(1):\n",
    "    for i, params in enumerate(paramsets):\n",
    "        rotation_matrix = rotation_matrices[i]\n",
    "        pred = torch.mm(x_batch, rotation_matrix.transpose(0, 1))\n",
    "        error = pred - y_batch\n",
    "        loss = l2_loss(error)\n",
    "        if params[\"opt\"] == \"adam\":\n",
    "            optimizers[i].zero_grad()\n",
    "        loss.backward()\n",
    "        if params[\"opt\"] == \"adam\":\n",
    "            optimizers[i].step()\n",
    "        elif params[\"opt\"] == \"gd\":\n",
    "            new_matrix = rotation_matrix.data - params[\"lr\"] * rotation_matrix.grad\n",
    "            rotation_matrices[i] = Variable(new_matrix, requires_grad=True)\n",
    "        matrix_losses[i].append(matrix_loss(rotation_matrices[i]).data.item())\n",
    "for params, matrix_loss_model in zip(paramsets, matrix_losses):\n",
    "    plt.plot(matrix_loss_model, label=str(params))\n",
    "plt.legend(loc='best')\n",
    "plt.show()"
   ]
  },
  {
   "cell_type": "code",
   "execution_count": null,
   "metadata": {
    "collapsed": true
   },
   "outputs": [],
   "source": []
  }
 ],
 "metadata": {
  "kernelspec": {
   "display_name": "Python 3",
   "language": "python",
   "name": "python3"
  },
  "language_info": {
   "codemirror_mode": {
    "name": "ipython",
    "version": 3
   },
   "file_extension": ".py",
   "mimetype": "text/x-python",
   "name": "python",
   "nbconvert_exporter": "python",
   "pygments_lexer": "ipython3",
   "version": "3.6.8"
  }
 },
 "nbformat": 4,
 "nbformat_minor": 2
}
