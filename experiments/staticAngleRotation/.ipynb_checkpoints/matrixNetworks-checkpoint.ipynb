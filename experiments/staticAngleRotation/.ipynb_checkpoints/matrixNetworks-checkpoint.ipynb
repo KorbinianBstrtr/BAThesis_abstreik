{
 "cells": [
  {
   "cell_type": "code",
   "execution_count": 2,
   "metadata": {
    "collapsed": true
   },
   "outputs": [],
   "source": [
    "import pandas as pd\n",
    "import torch.nn as nn\n",
    "import random\n",
    "from torch.optim import Adam\n",
    "from torch.utils.data import DataLoader,TensorDataset\n",
    "import math\n",
    "import torch\n",
    "import numpy as np\n",
    "import matplotlib.pyplot as plt\n",
    "from tqdm import tqdm_notebook as tqdm"
   ]
  },
  {
   "cell_type": "code",
   "execution_count": 3,
   "metadata": {
    "collapsed": true
   },
   "outputs": [],
   "source": [
    "points = pd.read_csv(\"rotated_points_angle.csv\")"
   ]
  },
  {
   "cell_type": "code",
   "execution_count": 4,
   "metadata": {
    "collapsed": true
   },
   "outputs": [],
   "source": [
    "class Net(nn.Module):\n",
    "    def __init__(self):\n",
    "        super().__init__()\n",
    "        hidden_nodes = 5\n",
    "        self.ff = nn.Sequential(\n",
    "            nn.Linear(1, hidden_nodes),\n",
    "            nn.Sigmoid(),\n",
    "            nn.Linear(hidden_nodes, 1),\n",
    "        )\n",
    "    \n",
    "    def forward(self, x_batch):\n",
    "        return self.ff(x_batch)"
   ]
  },
  {
   "cell_type": "markdown",
   "metadata": {},
   "source": [
    "## Check if model can learn sine function"
   ]
  },
  {
   "cell_type": "code",
   "execution_count": 5,
   "metadata": {
    "collapsed": true
   },
   "outputs": [],
   "source": [
    "random.seed(234)\n",
    "model = Net()\n",
    "opt = Adam(model.parameters())"
   ]
  },
  {
   "cell_type": "code",
   "execution_count": 6,
   "metadata": {},
   "outputs": [
    {
     "data": {
      "application/vnd.jupyter.widget-view+json": {
       "model_id": "724db9a6020e4f29ae0e9e080fa2b2be"
      }
     },
     "metadata": {},
     "output_type": "display_data"
    },
    {
     "name": "stdout",
     "output_type": "stream",
     "text": [
      "\n"
     ]
    }
   ],
   "source": [
    "model.train()\n",
    "for i in tqdm(range(300000)):\n",
    "    alpha = random.uniform(0, 2*math.pi)\n",
    "    pred = model(torch.Tensor([alpha]))\n",
    "    y_true = math.sin(alpha)\n",
    "    opt.zero_grad()\n",
    "    loss = (pred - y_true) ** 2\n",
    "    loss.backward()\n",
    "    opt.step()"
   ]
  },
  {
   "cell_type": "code",
   "execution_count": 7,
   "metadata": {
    "collapsed": true
   },
   "outputs": [],
   "source": [
    "test = np.linspace(0, 2*math.pi, 100)"
   ]
  },
  {
   "cell_type": "code",
   "execution_count": 8,
   "metadata": {
    "collapsed": true
   },
   "outputs": [],
   "source": [
    "model.eval()\n",
    "pred = model(torch.Tensor(np.matrix(test).transpose()))"
   ]
  },
  {
   "cell_type": "code",
   "execution_count": 9,
   "metadata": {
    "scrolled": true
   },
   "outputs": [
    {
     "data": {
      "image/png": "[encoded data removed]",
      "text/plain": [
       "<matplotlib.figure.Figure at 0x11b9ea588>"
      ]
     },
     "metadata": {},
     "output_type": "display_data"
    }
   ],
   "source": [
    "plt.plot(test, np.sin(test))\n",
    "plt.plot(test, pred.detach().numpy())\n",
    "plt.show()"
   ]
  },
  {
   "cell_type": "markdown",
   "metadata": {},
   "source": [
    "# Train nets for matrix"
   ]
  },
  {
   "cell_type": "code",
   "execution_count": 52,
   "metadata": {
    "collapsed": true
   },
   "outputs": [],
   "source": [
    "def get_loader(data):\n",
    "    X = torch.FloatTensor(data[[\"x1\", \"y1\", \"alpha\"]].values)\n",
    "    y = torch.FloatTensor(data[[\"x2\", \"y2\"]].values)\n",
    "    torch_data = TensorDataset(X, y)\n",
    "    loader = DataLoader(torch_data, shuffle=False)\n",
    "    return loader"
   ]
  },
  {
   "cell_type": "code",
   "execution_count": 53,
   "metadata": {
    "collapsed": true
   },
   "outputs": [],
   "source": [
    "n_points_val = 10\n",
    "val_loader = get_loader(points.tail(n_points_val))"
   ]
  },
  {
   "cell_type": "code",
   "execution_count": 54,
   "metadata": {
    "collapsed": true
   },
   "outputs": [],
   "source": [
    "def calc_loss(x_batch, y_batch, nets):\n",
    "    alphas = x_batch[:, [2]]\n",
    "    matrix_entries = [model(alphas) for model in nets]\n",
    "    loss = 0\n",
    "    for i in range(len(alphas)):\n",
    "        predx = matrix_entries[0][i] * x_batch[i][0] + matrix_entries[1][i] * x_batch[i][1]\n",
    "        predy = matrix_entries[2][i] * x_batch[i][0] + matrix_entries[3][i] * x_batch[i][1]\n",
    "        loss += (predx - y_batch[i][0]) ** 2\n",
    "        loss += (predy - y_batch[i][1]) ** 2\n",
    "    loss /= len(alphas)\n",
    "    return loss"
   ]
  },
  {
   "cell_type": "code",
   "execution_count": 60,
   "metadata": {
    "scrolled": false
   },
   "outputs": [
    {
     "name": "stdout",
     "output_type": "stream",
     "text": [
      "Epoch 0: Val 1.0163618326187134, Train 1.2102597951889038\n",
      "Epoch 1000: Val 0.5955855250358582, Train 0.149177685379982\n",
      "Epoch 2000: Val 0.20054781436920166, Train 0.05602322146296501\n",
      "Epoch 3000: Val 0.14283835887908936, Train 0.03274773061275482\n",
      "Epoch 4000: Val 0.13351301848888397, Train 0.023697035387158394\n"
     ]
    },
    {
     "data": {
      "image/png": "[encoded data removed]",
      "text/plain": [
       "<matplotlib.figure.Figure at 0x128ba12b0>"
      ]
     },
     "metadata": {},
     "output_type": "display_data"
    },
    {
     "name": "stdout",
     "output_type": "stream",
     "text": [
      "CPU times: user 1min 1s, sys: 1.01 s, total: 1min 2s\n",
      "Wall time: 1min 2s\n"
     ]
    }
   ],
   "source": [
    "%%time\n",
    "nets = [Net() for _ in range(4)]\n",
    "opts = [Adam(model.parameters()) for model in nets]\n",
    "n_points = 10\n",
    "train_loader = get_loader(points.head(n_points))\n",
    "losses = []\n",
    "train_losses = []\n",
    "epochs = []\n",
    "epoch = 0\n",
    "epochs_per_validation = 100\n",
    "while True:\n",
    "    # training\n",
    "    for model in nets:\n",
    "        model.train()\n",
    "    for x_batch, y_batch in train_loader:\n",
    "        loss = calc_loss(x_batch, y_batch, nets)\n",
    "        for opt in opts:\n",
    "            opt.zero_grad()\n",
    "        loss.backward()\n",
    "        for opt in opts:\n",
    "            opt.step()\n",
    "    # validation\n",
    "    if epoch % epochs_per_validation == 0:\n",
    "        for model in nets:\n",
    "            model.eval()\n",
    "        val_loss = 0\n",
    "        train_loss = 0\n",
    "        for x_batch, y_batch in val_loader:\n",
    "            val_loss += calc_loss(x_batch, y_batch, nets)\n",
    "        for x_batch, y_batch in train_loader:\n",
    "            train_loss += calc_loss(x_batch, y_batch, nets)\n",
    "        val_loss /= n_points_val\n",
    "        train_loss /= n_points\n",
    "        losses.append(val_loss.item())\n",
    "        train_losses.append(train_loss.item())\n",
    "        epochs.append(epoch)\n",
    "        if epoch % 1000 == 0:\n",
    "            print(\"Epoch {}: Val {}, Train {}\".format(epoch, losses[-1], train_losses[-1]))\n",
    "        reference_loss_index = 500//epochs_per_validation\n",
    "        if epoch > 1000 and len(losses) > reference_loss_index and losses[-1] > losses[-reference_loss_index]:\n",
    "            break\n",
    "    epoch += 1\n",
    "plt.plot(epochs, losses)\n",
    "plt.plot(epochs, train_losses)\n",
    "plt.show()"
   ]
  },
  {
   "cell_type": "code",
   "execution_count": 61,
   "metadata": {},
   "outputs": [
    {
     "data": {
      "text/plain": [
       "0"
      ]
     },
     "execution_count": 61,
     "metadata": {},
     "output_type": "execute_result"
    }
   ],
   "source": [
    "import os\n",
    "os.system('say \"your program has finished\"')"
   ]
  },
  {
   "cell_type": "code",
   "execution_count": 62,
   "metadata": {},
   "outputs": [],
   "source": [
    "import RotationMatrix\n",
    "n_test = 16\n",
    "test = []\n",
    "for alpha in np.linspace(0, 2*math.pi, n_test)[:-1]:\n",
    "    x1, y1 = RotationMatrix.apply_rotation(1, 0, alpha)\n",
    "    x2, y2 = RotationMatrix.apply_rotation(x1, y1, alpha)\n",
    "    test.append([alpha, x1, y1, x2, y2])\n",
    "test = pd.DataFrame(test, columns=['alpha', 'x1', 'y1', 'x2', 'y2'])\n",
    "test_loader = get_loader(test)"
   ]
  },
  {
   "cell_type": "code",
   "execution_count": 63,
   "metadata": {
    "collapsed": true
   },
   "outputs": [],
   "source": [
    "test_loss = 0\n",
    "for x_batch, y_batch in test_loader:\n",
    "    test_loss += calc_loss(x_batch, y_batch, nets)\n",
    "test_loss /= n_test"
   ]
  },
  {
   "cell_type": "code",
   "execution_count": 64,
   "metadata": {},
   "outputs": [
    {
     "data": {
      "text/plain": [
       "tensor([1.6518], grad_fn=<DivBackward0>)"
      ]
     },
     "execution_count": 64,
     "metadata": {},
     "output_type": "execute_result"
    }
   ],
   "source": [
    "test_loss"
   ]
  },
  {
   "cell_type": "code",
   "execution_count": null,
   "metadata": {
    "collapsed": true
   },
   "outputs": [],
   "source": []
  }
 ],
 "metadata": {
  "kernelspec": {
   "display_name": "Python 3",
   "language": "python",
   "name": "python3"
  }
 },
 "nbformat": 4,
 "nbformat_minor": 2
}
