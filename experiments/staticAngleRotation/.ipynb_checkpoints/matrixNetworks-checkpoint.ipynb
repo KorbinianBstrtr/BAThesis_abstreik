{
 "cells": [
  {
   "cell_type": "code",
   "execution_count": 91,
   "metadata": {
    "collapsed": true
   },
   "outputs": [],
   "source": [
    "import pandas as pd\n",
    "import torch.nn as nn\n",
    "import random\n",
    "from torch.optim import Adam\n",
    "from torch.utils.data import DataLoader,TensorDataset\n",
    "import math\n",
    "import torch\n",
    "import numpy as np\n",
    "import matplotlib.pyplot as plt\n",
    "from tqdm import tqdm_notebook as tqdm\n",
    "import RotationMatrix"
   ]
  },
  {
   "cell_type": "code",
   "execution_count": 92,
   "metadata": {
    "collapsed": true
   },
   "outputs": [],
   "source": [
    "points = pd.read_csv(\"rotated_points_angle.csv\")"
   ]
  },
  {
   "cell_type": "code",
   "execution_count": 93,
   "metadata": {
    "collapsed": true
   },
   "outputs": [],
   "source": [
    "class Net(nn.Module):\n",
    "    def __init__(self):\n",
    "        super().__init__()\n",
    "        hidden_nodes = 5\n",
    "        self.ff = nn.Sequential(\n",
    "            nn.Linear(1, hidden_nodes),\n",
    "            nn.Sigmoid(),\n",
    "            nn.Linear(hidden_nodes, 1),\n",
    "        )\n",
    "    \n",
    "    def forward(self, x_batch):\n",
    "        return self.ff(x_batch)"
   ]
  },
  {
   "cell_type": "markdown",
   "metadata": {
    "heading_collapsed": true
   },
   "source": [
    "## Check if model can learn sine function"
   ]
  },
  {
   "cell_type": "code",
   "execution_count": 132,
   "metadata": {
    "collapsed": true,
    "hidden": true
   },
   "outputs": [],
   "source": [
    "def train_sin():\n",
    "    random.seed(234)\n",
    "    model = Net()\n",
    "    opt = Adam(model.parameters())\n",
    "    model.train()\n",
    "    for i in tqdm(range(300000)):\n",
    "        alpha = random.uniform(0, 2*math.pi)\n",
    "        pred = model(torch.Tensor([alpha]))\n",
    "        y_true = math.sin(alpha)\n",
    "        opt.zero_grad()\n",
    "        loss = (pred - y_true) ** 2\n",
    "        loss.backward()\n",
    "        opt.step()\n",
    "    return model"
   ]
  },
  {
   "cell_type": "code",
   "execution_count": 133,
   "metadata": {
    "collapsed": true,
    "hidden": true
   },
   "outputs": [],
   "source": [
    "def plot_sin_model(model):\n",
    "    test = np.linspace(0, 2*math.pi, 100)\n",
    "    model.eval()\n",
    "    pred = model(torch.Tensor(np.matrix(test).transpose()))\n",
    "    plt.plot(test, np.sin(test))\n",
    "    plt.plot(test, pred.detach().numpy())\n",
    "    plt.show()"
   ]
  },
  {
   "cell_type": "code",
   "execution_count": 134,
   "metadata": {
    "hidden": true
   },
   "outputs": [
    {
     "data": {
      "application/vnd.jupyter.widget-view+json": {
       "model_id": "53caff87420d4858b3cf6a0bbabd5a5d"
      }
     },
     "metadata": {},
     "output_type": "display_data"
    },
    {
     "name": "stdout",
     "output_type": "stream",
     "text": [
      "\n"
     ]
    },
    {
     "data": {
      "image/png": "[encoded data removed]",
      "text/plain": [
       "<matplotlib.figure.Figure at 0x128fbd080>"
      ]
     },
     "metadata": {},
     "output_type": "display_data"
    }
   ],
   "source": [
    "# plot_sin_model(train_sin())"
   ]
  },
  {
   "cell_type": "markdown",
   "metadata": {},
   "source": [
    "# Train nets for matrix"
   ]
  },
  {
   "cell_type": "code",
   "execution_count": 94,
   "metadata": {
    "collapsed": true
   },
   "outputs": [],
   "source": [
    "def get_loader(data):\n",
    "    X = torch.FloatTensor(data[[\"x1\", \"y1\", \"alpha\"]].values)\n",
    "    y = torch.FloatTensor(data[[\"x2\", \"y2\"]].values)\n",
    "    torch_data = TensorDataset(X, y)\n",
    "    loader = DataLoader(torch_data, shuffle=False)\n",
    "    return loader"
   ]
  },
  {
   "cell_type": "code",
   "execution_count": 95,
   "metadata": {
    "collapsed": true
   },
   "outputs": [],
   "source": [
    "def calc_pred_loss(x_batch, y_batch, nets):\n",
    "    alphas = x_batch[:, [2]]\n",
    "    matrix_entries = [model(alphas) for model in nets]\n",
    "    loss = 0\n",
    "    preds = []\n",
    "    for i in range(len(alphas)):\n",
    "        predx = matrix_entries[0][i] * x_batch[i][0] + matrix_entries[1][i] * x_batch[i][1]\n",
    "        predy = matrix_entries[2][i] * x_batch[i][0] + matrix_entries[3][i] * x_batch[i][1]\n",
    "        loss += (predx - y_batch[i][0]) ** 2\n",
    "        loss += (predy - y_batch[i][1]) ** 2\n",
    "        preds.append((predx.item(), predy.item()))\n",
    "    loss /= len(alphas)\n",
    "    return {\"loss\": loss, \"preds\": preds}"
   ]
  },
  {
   "cell_type": "code",
   "execution_count": 96,
   "metadata": {
    "collapsed": true
   },
   "outputs": [],
   "source": [
    "def calc_loss(x_batch, y_batch, nets):\n",
    "    return calc_pred_loss(x_batch, y_batch, nets)[\"loss\"]"
   ]
  },
  {
   "cell_type": "code",
   "execution_count": 137,
   "metadata": {
    "collapsed": true
   },
   "outputs": [],
   "source": [
    "def train(n_points_train_val):\n",
    "    n_points = round(n_points_train_val * 0.8)\n",
    "    train_loader = get_loader(points.head(n_points))\n",
    "    n_points_val = max(n_points_train_val - n_points, 1)\n",
    "    val_loader = get_loader(points.tail(n_points_val))\n",
    "\n",
    "    nets = [Net() for _ in range(4)]\n",
    "    opts = [Adam(model.parameters()) for model in nets]\n",
    "    val_losses = []\n",
    "    train_losses = []\n",
    "    epochs = []\n",
    "    epoch = 0\n",
    "    epochs_per_validation = 100\n",
    "    while True:\n",
    "        # training\n",
    "        for model in nets:\n",
    "            model.train()\n",
    "        for x_batch, y_batch in train_loader:\n",
    "            loss = calc_loss(x_batch, y_batch, nets)\n",
    "            for opt in opts:\n",
    "                opt.zero_grad()\n",
    "            loss.backward()\n",
    "            for opt in opts:\n",
    "                opt.step()\n",
    "        # validation\n",
    "        if epoch % epochs_per_validation == 0:\n",
    "            for model in nets:\n",
    "                model.eval()\n",
    "            val_loss = 0\n",
    "            train_loss = 0\n",
    "            for x_batch, y_batch in val_loader:\n",
    "                val_loss += calc_loss(x_batch, y_batch, nets)\n",
    "            for x_batch, y_batch in train_loader:\n",
    "                train_loss += calc_loss(x_batch, y_batch, nets)\n",
    "            val_loss /= n_points_val\n",
    "            train_loss /= n_points\n",
    "            val_losses.append(val_loss.item())\n",
    "            train_losses.append(train_loss.item())\n",
    "            epochs.append(epoch)\n",
    "            # if epoch % 1000 == 0:\n",
    "            #     print(\"Epoch {}: Val {}, Train {}\".format(epoch, val_losses[-1], train_losses[-1]))\n",
    "            reference_loss_index = 500//epochs_per_validation\n",
    "            if epoch > 1000 and len(val_losses) > reference_loss_index and val_losses[-1] > val_losses[-reference_loss_index]:\n",
    "                break\n",
    "        epoch += 1\n",
    "    return {\"nets\": nets, \"train_loss\": train_losses, \"val_loss\": val_losses, \"epochs\": epochs}"
   ]
  },
  {
   "cell_type": "code",
   "execution_count": 138,
   "metadata": {
    "collapsed": true
   },
   "outputs": [],
   "source": [
    "# build test set\n",
    "n_test = 16\n",
    "test = []\n",
    "for alpha in np.linspace(0, 2*math.pi, n_test)[:-1]:\n",
    "    x1, y1 = RotationMatrix.apply_rotation(1, 0, alpha)\n",
    "    x2, y2 = RotationMatrix.apply_rotation(x1, y1, alpha)\n",
    "    test.append([alpha, x1, y1, x2, y2])\n",
    "test = pd.DataFrame(test, columns=['alpha', 'x1', 'y1', 'x2', 'y2'])\n",
    "test_loader = get_loader(test)"
   ]
  },
  {
   "cell_type": "code",
   "execution_count": 139,
   "metadata": {},
   "outputs": [],
   "source": [
    "def test(nets):\n",
    "    test_loss = 0\n",
    "    test_preds = []\n",
    "    for x_batch, y_batch in test_loader:\n",
    "        result = calc_pred_loss(x_batch, y_batch, nets)\n",
    "        test_preds += result[\"preds\"]\n",
    "        test_loss += result[\"loss\"]\n",
    "    test_loss /= len(test_loader)\n",
    "    return {\"loss\": test_loss.item(), \"preds\": test_preds}"
   ]
  },
  {
   "cell_type": "code",
   "execution_count": 140,
   "metadata": {
    "scrolled": false
   },
   "outputs": [],
   "source": [
    "def train_test(n_points_train_val, visualize=True):\n",
    "    train_result = train(n_points_train_val)\n",
    "    test_result = test(train_result[\"nets\"])\n",
    "    if visualize:\n",
    "        plt.plot(train_result[\"epochs\"], train_result[\"val_loss\"])\n",
    "        plt.plot(train_result[\"epochs\"], train_result[\"train_loss\"])\n",
    "        plt.show()\n",
    "        print(\"Test loss = {}\".format(test_result[\"loss\"]))\n",
    "    return train_result, test_result"
   ]
  },
  {
   "cell_type": "code",
   "execution_count": 143,
   "metadata": {
    "scrolled": false
   },
   "outputs": [],
   "source": [
    "results = []\n",
    "for n_points_train_val in range(1, 3):\n",
    "    train_result, test_result = train_test(n_points_train_val, visualize=False)\n",
    "    del train_result[\"nets\"]\n",
    "    results.append([n_points_train_val, str(train_result), str(test_result)])\n",
    "df = pd.DataFrame(results, columns=[\"n_points_train_val\", \"train_result\", \"test_result\"])\n",
    "df.to_csv(\"train_limited_data_results.csv\", index=False)"
   ]
  },
  {
   "cell_type": "code",
   "execution_count": 145,
   "metadata": {},
   "outputs": [],
   "source": [
    "#import os\n",
    "#os.system('say \"your program has finished\"')"
   ]
  },
  {
   "cell_type": "code",
   "execution_count": null,
   "metadata": {
    "collapsed": true
   },
   "outputs": [],
   "source": []
  }
 ],
 "metadata": {
  "kernelspec": {
   "display_name": "Python 3",
   "language": "python",
   "name": "python3"
  },
  "language_info": {
   "codemirror_mode": {
    "name": "ipython",
    "version": 3
   },
   "file_extension": ".py",
   "mimetype": "text/x-python",
   "name": "python",
   "nbconvert_exporter": "python",
   "pygments_lexer": "ipython3",
   "version": "3.6.8"
  }
 },
 "nbformat": 4,
 "nbformat_minor": 2
}
