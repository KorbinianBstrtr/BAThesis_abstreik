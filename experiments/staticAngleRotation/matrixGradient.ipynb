{
 "cells": [
  {
   "cell_type": "code",
   "execution_count": 1,
   "metadata": {
    "collapsed": true
   },
   "outputs": [],
   "source": [
    "import pandas as pd"
   ]
  },
  {
   "cell_type": "code",
   "execution_count": 121,
   "metadata": {
    "collapsed": true
   },
   "outputs": [],
   "source": [
    "nrows = 1000\n",
    "points = pd.read_csv(\"rotated_points.csv\", nrows=nrows)"
   ]
  },
  {
   "cell_type": "code",
   "execution_count": 122,
   "metadata": {},
   "outputs": [
    {
     "data": {
      "text/html": [
       "<div>\n",
       "<style>\n",
       "    .dataframe thead tr:only-child th {\n",
       "        text-align: right;\n",
       "    }\n",
       "\n",
       "    .dataframe thead th {\n",
       "        text-align: left;\n",
       "    }\n",
       "\n",
       "    .dataframe tbody tr th {\n",
       "        vertical-align: top;\n",
       "    }\n",
       "</style>\n",
       "<table border=\"1\" class=\"dataframe\">\n",
       "  <thead>\n",
       "    <tr style=\"text-align: right;\">\n",
       "      <th></th>\n",
       "      <th>x1</th>\n",
       "      <th>y1</th>\n",
       "      <th>x2</th>\n",
       "      <th>y2</th>\n",
       "    </tr>\n",
       "  </thead>\n",
       "  <tbody>\n",
       "    <tr>\n",
       "      <th>0</th>\n",
       "      <td>-0.545621</td>\n",
       "      <td>0.838032</td>\n",
       "      <td>-0.978391</td>\n",
       "      <td>0.206765</td>\n",
       "    </tr>\n",
       "    <tr>\n",
       "      <th>1</th>\n",
       "      <td>0.664113</td>\n",
       "      <td>-0.747632</td>\n",
       "      <td>0.998255</td>\n",
       "      <td>-0.059057</td>\n",
       "    </tr>\n",
       "    <tr>\n",
       "      <th>2</th>\n",
       "      <td>0.627280</td>\n",
       "      <td>-0.778793</td>\n",
       "      <td>0.994244</td>\n",
       "      <td>-0.107136</td>\n",
       "    </tr>\n",
       "    <tr>\n",
       "      <th>3</th>\n",
       "      <td>0.886203</td>\n",
       "      <td>-0.463297</td>\n",
       "      <td>0.954241</td>\n",
       "      <td>0.299039</td>\n",
       "    </tr>\n",
       "    <tr>\n",
       "      <th>4</th>\n",
       "      <td>-0.999402</td>\n",
       "      <td>-0.034592</td>\n",
       "      <td>-0.682224</td>\n",
       "      <td>-0.731144</td>\n",
       "    </tr>\n",
       "  </tbody>\n",
       "</table>\n",
       "</div>"
      ],
      "text/plain": [
       "         x1        y1        x2        y2\n",
       "0 -0.545621  0.838032 -0.978391  0.206765\n",
       "1  0.664113 -0.747632  0.998255 -0.059057\n",
       "2  0.627280 -0.778793  0.994244 -0.107136\n",
       "3  0.886203 -0.463297  0.954241  0.299039\n",
       "4 -0.999402 -0.034592 -0.682224 -0.731144"
      ]
     },
     "execution_count": 122,
     "metadata": {},
     "output_type": "execute_result"
    }
   ],
   "source": [
    "points.head()"
   ]
  },
  {
   "cell_type": "markdown",
   "metadata": {},
   "source": [
    "# Training"
   ]
  },
  {
   "cell_type": "code",
   "execution_count": 123,
   "metadata": {
    "collapsed": true
   },
   "outputs": [],
   "source": [
    "import torch\n",
    "import torch.nn as nn\n",
    "from torch.optim import Adam, SGD\n",
    "from torch.autograd import Variable\n",
    "from torch.utils.data import DataLoader,TensorDataset\n",
    "import numpy as np\n",
    "import matplotlib.pyplot as plt\n",
    "import RotationMatrix\n",
    "seed = 234\n",
    "torch.manual_seed(seed)\n",
    "torch.cuda.manual_seed(seed)\n",
    "torch.backends.cudnn.deterministic = True"
   ]
  },
  {
   "cell_type": "code",
   "execution_count": 124,
   "metadata": {
    "collapsed": true
   },
   "outputs": [],
   "source": [
    "X = torch.DoubleTensor(points[[\"x1\", \"y1\"]].values)\n",
    "y = torch.DoubleTensor(points[[\"x2\", \"y2\"]].values)\n",
    "train_data = TensorDataset(X, y)\n",
    "train_loader = lambda batch_size: DataLoader(train_data, batch_size=batch_size, shuffle=False)"
   ]
  },
  {
   "cell_type": "code",
   "execution_count": 125,
   "metadata": {
    "collapsed": true
   },
   "outputs": [],
   "source": [
    "def l2_loss(y_pred, y_true, rotation_matrix):\n",
    "    error = y_pred - y_true\n",
    "    return sum([sum([e ** 2 for e in error_vec]) for error_vec in error]) / len(error)"
   ]
  },
  {
   "cell_type": "code",
   "execution_count": 126,
   "metadata": {
    "collapsed": true
   },
   "outputs": [],
   "source": [
    "def det_loss(y_pred, y_true, rotation_matrix):\n",
    "    det = rotation_matrix[0][0] * rotation_matrix[1][1] - rotation_matrix[0][1] * rotation_matrix[1][0]\n",
    "    return (det - 1) ** 2"
   ]
  },
  {
   "cell_type": "code",
   "execution_count": 127,
   "metadata": {
    "collapsed": true
   },
   "outputs": [],
   "source": [
    "def norm_loss(y_pred, y_true, rotation_matrix):\n",
    "    avg_norm = sum([pred.norm() for pred in y_pred]) / len(y_pred)\n",
    "    return (avg_norm - 1) ** 2"
   ]
  },
  {
   "cell_type": "code",
   "execution_count": 128,
   "metadata": {
    "collapsed": true
   },
   "outputs": [],
   "source": [
    "# first weight is for l2_loss, second weight for det_loss, third for norm loss\n",
    "def get_mixed_lossfn(weigths):\n",
    "    def mixed_loss(y_pred, y_true, rotation_matrix):\n",
    "        l0 = l2_loss(y_pred, y_true, rotation_matrix)\n",
    "        l1 = det_loss(y_pred, y_true, rotation_matrix)\n",
    "        l2 = norm_loss(y_pred, y_true, rotation_matrix)\n",
    "        return weigths[0] * l0 + weigths[1] * l1 + weigths[2] * l2\n",
    "    return mixed_loss"
   ]
  },
  {
   "cell_type": "code",
   "execution_count": 129,
   "metadata": {
    "collapsed": true
   },
   "outputs": [],
   "source": [
    "true_rotation_matrix = torch.tensor(RotationMatrix.get_matrix(), dtype=torch.float64)\n",
    "\n",
    "# returns the norm of the difference of the matrix to the true rotation matrix\n",
    "def matrix_loss(rotation_matrix):\n",
    "    return (rotation_matrix - true_rotation_matrix).norm()"
   ]
  },
  {
   "cell_type": "code",
   "execution_count": 130,
   "metadata": {
    "collapsed": true
   },
   "outputs": [],
   "source": [
    "rotation_matrix_start = torch.randn(2, 2, dtype=torch.float64)\n",
    "new_rotation_matrix = lambda: Variable(rotation_matrix_start.clone(), requires_grad=True)"
   ]
  },
  {
   "cell_type": "code",
   "execution_count": 131,
   "metadata": {
    "collapsed": true
   },
   "outputs": [],
   "source": [
    "is_double_zero = lambda x: abs(x) < 1e-31"
   ]
  },
  {
   "cell_type": "code",
   "execution_count": 132,
   "metadata": {},
   "outputs": [],
   "source": [
    "def train(params, debug=False, include_rotation_matrices=False, include_grads=False):\n",
    "    losses = []\n",
    "    gradients = []\n",
    "    rotation_matrices = []\n",
    "    rotation_matrix = new_rotation_matrix()\n",
    "    optimizer = None\n",
    "    if params[\"opt\"] == \"Adam\":\n",
    "        optimizer = Adam([rotation_matrix], lr=params[\"lr\"])\n",
    "    elif params[\"opt\"] == \"SGD\":\n",
    "        optimizer = SGD([rotation_matrix], lr=params[\"lr\"])\n",
    "    for x_batch, y_batch in train_loader(params[\"batch_size\"]):\n",
    "        pred = torch.mm(x_batch, rotation_matrix.transpose(0, 1))\n",
    "        error = pred - y_batch\n",
    "        loss = params[\"lossfn\"](pred, y_batch, rotation_matrix)\n",
    "        if is_double_zero(loss):\n",
    "            loss *= 0\n",
    "        optimizer.zero_grad()\n",
    "        loss.backward()\n",
    "        if debug:\n",
    "            print(\"------------------------------------\")\n",
    "            print(\"Loss = {}\".format(loss.item()))\n",
    "            print(\"Current matrix:\")\n",
    "            print(rotation_matrix.data.numpy())\n",
    "            print(\"True matrix:\")\n",
    "            print(true_rotation_matrix.data.numpy())\n",
    "            print(\"Gradient:\")\n",
    "            print(rotation_matrix.grad)\n",
    "        if include_grads:\n",
    "            gradients.append(rotation_matrix.grad.numpy().copy())\n",
    "        if include_rotation_matrices:\n",
    "            rotation_matrices.append(rotation_matrix.detach().numpy().copy())\n",
    "        optimizer.step()\n",
    "        losses.append(matrix_loss(rotation_matrix).data.item())\n",
    "    return {\"loss\": losses, \"rotation_matrices\": rotation_matrices, \"grads\": gradients}"
   ]
  },
  {
   "cell_type": "code",
   "execution_count": 133,
   "metadata": {
    "collapsed": true
   },
   "outputs": [],
   "source": [
    "def compare_params(paramsets):\n",
    "    for paramset in paramsets:\n",
    "        result = train(paramset)\n",
    "        matrix_loss = result[\"loss\"]\n",
    "        paramset_copy = paramset.copy()\n",
    "        paramset_copy[\"lossfn\"] = paramset_copy[\"lossfn\"].__name__\n",
    "        label = str(paramset_copy)\n",
    "        plt.plot(range(0, nrows, paramset[\"batch_size\"]), matrix_loss, label=label)\n",
    "    plt.yscale(\"log\")\n",
    "    plt.legend(bbox_to_anchor=(1.04,1), loc='best')\n",
    "    plt.show()"
   ]
  },
  {
   "cell_type": "code",
   "execution_count": 134,
   "metadata": {
    "collapsed": true
   },
   "outputs": [],
   "source": [
    "def compare_gradients(paramsets):\n",
    "    results = [train(paramset, include_rotation_matrices=True, include_grads=True) for paramset in paramsets]    \n",
    "    for i in range(len(results[0][\"grads\"])):\n",
    "        print(\"++++++++++++++++++++++++++++++++++++++++++++++++++++++++++++++++++++++++++++++++\")\n",
    "        for res in results:\n",
    "            print(\"True gradient:\")\n",
    "            print(res[\"rotation_matrices\"][i] - true_rotation_matrix.numpy())\n",
    "            print(\"Gradient:\")\n",
    "            print(res[\"grads\"][i])\n",
    "            print(\"Current model:\")\n",
    "            print(res[\"rotation_matrices\"][i])\n",
    "            print(\"---------\")"
   ]
  },
  {
   "cell_type": "markdown",
   "metadata": {},
   "source": [
    "## Finding a baseline"
   ]
  },
  {
   "cell_type": "code",
   "execution_count": 135,
   "metadata": {},
   "outputs": [],
   "source": [
    "learning_rates = [1e-0, 1e-1, 1e-2, 1e-3]\n",
    "optimizers = [\"Adam\", \"SGD\"]\n",
    "batch_sizes = [1, 10]\n",
    "lossfns = [l2_loss]\n",
    "paramsets_baseline = [{\"lossfn\": lossfn, \"opt\": opt, \"lr\": lr, \"batch_size\": batch_size} for lossfn in lossfns for opt in optimizers for lr in learning_rates for batch_size in batch_sizes]\n",
    "filtered_paramsets = [\n",
    "    {\"lossfn\": l2_loss, 'opt': 'Adam', 'lr': 0.1, 'batch_size': 1},\n",
    "    {\"lossfn\": l2_loss, 'opt': 'SGD', 'lr': 0.1, 'batch_size': 1},\n",
    "    {\"lossfn\": l2_loss, 'opt': 'SGD', 'lr': 1.0, 'batch_size': 10},\n",
    "]\n",
    "paramsets_baseline = filtered_paramsets"
   ]
  },
  {
   "cell_type": "code",
   "execution_count": 136,
   "metadata": {
    "scrolled": true
   },
   "outputs": [
    {
     "data": {
      "image/png": "[encoded data removed]",
      "text/plain": [
       "<matplotlib.figure.Figure at 0x11ada4908>"
      ]
     },
     "metadata": {},
     "output_type": "display_data"
    }
   ],
   "source": [
    "compare_params(paramsets_baseline)"
   ]
  },
  {
   "cell_type": "code",
   "execution_count": 137,
   "metadata": {},
   "outputs": [
    {
     "data": {
      "text/plain": [
       "{'batch_size': 10,\n",
       " 'lossfn': <function __main__.l2_loss>,\n",
       " 'lr': 1.0,\n",
       " 'opt': 'SGD'}"
      ]
     },
     "execution_count": 137,
     "metadata": {},
     "output_type": "execute_result"
    }
   ],
   "source": [
    "baseline_params = paramsets_baseline[-1]\n",
    "baseline_params"
   ]
  },
  {
   "cell_type": "markdown",
   "metadata": {},
   "source": [
    "## Add determinant loss"
   ]
  },
  {
   "cell_type": "code",
   "execution_count": 138,
   "metadata": {},
   "outputs": [],
   "source": [
    "weights = [(1, 0, 0), (1, 0.02, 0)]\n",
    "paramsets = []\n",
    "for weight_pair in weights:\n",
    "    new_paramset = baseline_params.copy()\n",
    "    new_paramset[\"lossfn\"] = get_mixed_lossfn(weight_pair)\n",
    "    paramsets.append(new_paramset)"
   ]
  },
  {
   "cell_type": "code",
   "execution_count": 139,
   "metadata": {},
   "outputs": [
    {
     "data": {
      "image/png": "[encoded data removed]",
      "text/plain": [
       "<matplotlib.figure.Figure at 0x1025b1128>"
      ]
     },
     "metadata": {},
     "output_type": "display_data"
    }
   ],
   "source": [
    "compare_params(paramsets)"
   ]
  },
  {
   "cell_type": "markdown",
   "metadata": {},
   "source": [
    "Result: Minimal to no improvement\n",
    "TODO: Perhaps predictions are more consistent?"
   ]
  },
  {
   "cell_type": "markdown",
   "metadata": {},
   "source": [
    "# Add norm loss"
   ]
  },
  {
   "cell_type": "code",
   "execution_count": 143,
   "metadata": {
    "collapsed": true
   },
   "outputs": [],
   "source": [
    "weights = [(1, 0, 0), (1, 0, 0.02)]\n",
    "paramsets = []\n",
    "for weight_pair in weights:\n",
    "    new_paramset = baseline_params.copy()\n",
    "    new_paramset[\"lossfn\"] = get_mixed_lossfn(weight_pair)\n",
    "    paramsets.append(new_paramset)"
   ]
  },
  {
   "cell_type": "code",
   "execution_count": 144,
   "metadata": {},
   "outputs": [
    {
     "data": {
      "image/png": "[encoded data removed]",
      "text/plain": [
       "<matplotlib.figure.Figure at 0x11a699cc0>"
      ]
     },
     "metadata": {},
     "output_type": "display_data"
    }
   ],
   "source": [
    "compare_params(paramsets)"
   ]
  },
  {
   "cell_type": "markdown",
   "metadata": {},
   "source": [
    "Result: No improvement -> norm is already included in supervised error, direction to correct point is better than direction to normalized prediction"
   ]
  },
  {
   "cell_type": "code",
   "execution_count": null,
   "metadata": {
    "collapsed": true
   },
   "outputs": [],
   "source": []
  }
 ],
 "metadata": {
  "kernelspec": {
   "display_name": "Python 3",
   "language": "python",
   "name": "python3"
  },
  "language_info": {
   "codemirror_mode": {
    "name": "ipython",
    "version": 3
   },
   "file_extension": ".py",
   "mimetype": "text/x-python",
   "name": "python",
   "nbconvert_exporter": "python",
   "pygments_lexer": "ipython3",
   "version": "3.6.8"
  }
 },
 "nbformat": 4,
 "nbformat_minor": 2
}
