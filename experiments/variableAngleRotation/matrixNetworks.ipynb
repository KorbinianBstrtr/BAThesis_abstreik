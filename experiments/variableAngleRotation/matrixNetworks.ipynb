{
 "cells": [
  {
   "cell_type": "code",
   "execution_count": 42,
   "metadata": {
    "collapsed": true
   },
   "outputs": [],
   "source": [
    "#!/usr/bin/env python3\n",
    "#SBATCH --cpus=1\n",
    "#SBATCH --gres=gpu:1\n",
    "#SBATCH --mem=20GB\n",
    "#SBATCH --mail-type=ALL\n",
    "#SBATCH --mail-user=abstreik\n",
    "#SBATCH --time=45:00:00"
   ]
  },
  {
   "cell_type": "code",
   "execution_count": 132,
   "metadata": {
    "collapsed": true
   },
   "outputs": [],
   "source": [
    "import sys \n",
    "sys.path.append('../helper')\n",
    "import pandas as pd\n",
    "import torch.nn as nn\n",
    "import random\n",
    "from torch.optim import Adam\n",
    "from torch.utils.data import DataLoader,TensorDataset\n",
    "import math\n",
    "import torch\n",
    "import numpy as np\n",
    "import matplotlib.pyplot as plt\n",
    "import RotationMatrix\n",
    "import time\n",
    "from sklearn.model_selection import KFold\n",
    "# from tqdm import tqdm_notebook as tqdm\n",
    "tqdm = lambda x: x"
   ]
  },
  {
   "cell_type": "code",
   "execution_count": 44,
   "metadata": {
    "collapsed": true
   },
   "outputs": [],
   "source": [
    "points = pd.read_csv(\"../data/rotated_points_angle.csv\")"
   ]
  },
  {
   "cell_type": "code",
   "execution_count": 134,
   "metadata": {
    "collapsed": true
   },
   "outputs": [],
   "source": [
    "class Net(nn.Module):\n",
    "    def __init__(self, n_hidden=None):\n",
    "        super().__init__()\n",
    "        hidden_nodes = 50 if n_hidden is None else n_hidden\n",
    "        self.ff = nn.Sequential(\n",
    "            nn.Linear(1, hidden_nodes),\n",
    "            nn.Sigmoid(),\n",
    "            nn.Linear(hidden_nodes, 1)\n",
    "        )\n",
    "    \n",
    "    def forward(self, x_batch):\n",
    "        return self.ff(x_batch)"
   ]
  },
  {
   "cell_type": "markdown",
   "metadata": {},
   "source": [
    "## Check if model can learn sine function"
   ]
  },
  {
   "cell_type": "code",
   "execution_count": 46,
   "metadata": {
    "collapsed": true
   },
   "outputs": [],
   "source": [
    "def train_sin():\n",
    "    random.seed(234)\n",
    "    model = Net()\n",
    "    opt = Adam(model.parameters())\n",
    "    model.train()\n",
    "    for i in tqdm(range(300000)):\n",
    "        alpha = random.uniform(0, 2*math.pi)\n",
    "        pred = model(torch.Tensor([alpha]))\n",
    "        y_true = math.sin(alpha)\n",
    "        opt.zero_grad()\n",
    "        loss = (pred - y_true) ** 2\n",
    "        loss.backward()\n",
    "        opt.step()\n",
    "    return model"
   ]
  },
  {
   "cell_type": "code",
   "execution_count": 47,
   "metadata": {
    "collapsed": true
   },
   "outputs": [],
   "source": [
    "def plot_sin_model(model):\n",
    "    test = np.linspace(0, 2*math.pi, 100)\n",
    "    model.eval()\n",
    "    pred = model(torch.Tensor(np.matrix(test).transpose()))\n",
    "    plt.plot(test, np.sin(test))\n",
    "    plt.plot(test, pred.detach().numpy())\n",
    "    plt.show()"
   ]
  },
  {
   "cell_type": "code",
   "execution_count": 86,
   "metadata": {
    "collapsed": true
   },
   "outputs": [],
   "source": [
    "def plot_matrix_nets(nets):\n",
    "    test = np.linspace(0, 2*math.pi, 100)\n",
    "    for model in nets:\n",
    "        model.eval()\n",
    "    fig, ax = plt.subplots(2, 2)\n",
    "    ax[0, 0].plot(test, np.cos(test))\n",
    "    ax[0, 0].plot(test, nets[0](torch.Tensor(np.matrix(test).transpose())).detach().numpy())\n",
    "    ax[0, 1].plot(test, -np.sin(test))\n",
    "    ax[0, 1].plot(test, nets[1](torch.Tensor(np.matrix(test).transpose())).detach().numpy())\n",
    "    ax[1, 0].plot(test, np.sin(test))\n",
    "    ax[1, 0].plot(test, nets[2](torch.Tensor(np.matrix(test).transpose())).detach().numpy())\n",
    "    ax[1, 1].plot(test, np.cos(test))\n",
    "    ax[1, 1].plot(test, nets[3](torch.Tensor(np.matrix(test).transpose())).detach().numpy())\n",
    "    plt.show()"
   ]
  },
  {
   "cell_type": "code",
   "execution_count": 48,
   "metadata": {
    "collapsed": true
   },
   "outputs": [],
   "source": [
    "# plot_sin_model(train_sin())"
   ]
  },
  {
   "cell_type": "markdown",
   "metadata": {},
   "source": [
    "# Train nets for matrix"
   ]
  },
  {
   "cell_type": "code",
   "execution_count": 89,
   "metadata": {
    "collapsed": true
   },
   "outputs": [],
   "source": [
    "def get_loader(data, shuffle=True):\n",
    "    X = torch.FloatTensor(data[[\"x1\", \"y1\", \"alpha\"]].values)\n",
    "    y = torch.FloatTensor(data[[\"x2\", \"y2\"]].values)\n",
    "    torch_data = TensorDataset(X, y)\n",
    "    loader = DataLoader(torch_data, batch_size=5, shuffle=shuffle)\n",
    "    return loader"
   ]
  },
  {
   "cell_type": "code",
   "execution_count": 90,
   "metadata": {
    "collapsed": true
   },
   "outputs": [],
   "source": [
    "def l2_loss(y_pred, y_true, rotation_matrix):\n",
    "    return (y_pred[0] - y_true[0]) ** 2 + (y_pred[1] - y_true[1]) ** 2"
   ]
  },
  {
   "cell_type": "code",
   "execution_count": 91,
   "metadata": {
    "collapsed": true
   },
   "outputs": [],
   "source": [
    "def calc_pred_loss(x_batch, y_batch, nets, loss_fn):\n",
    "    alphas = x_batch[:, [2]]\n",
    "    matrix_entries = [model(alphas) for model in nets]\n",
    "    loss = 0\n",
    "    preds = []\n",
    "    for i in range(len(alphas)):\n",
    "        predx = matrix_entries[0][i] * x_batch[i][0] + matrix_entries[1][i] * x_batch[i][1]\n",
    "        predy = matrix_entries[2][i] * x_batch[i][0] + matrix_entries[3][i] * x_batch[i][1]\n",
    "        loss += loss_fn((predx, predy), y_batch[i], [[matrix_entries[0][i], matrix_entries[1][i]], [matrix_entries[2][i], matrix_entries[3][i]]])\n",
    "        preds.append((predx.item(), predy.item()))\n",
    "    loss /= len(alphas)\n",
    "    return {\"loss\": loss, \"preds\": preds}"
   ]
  },
  {
   "cell_type": "code",
   "execution_count": 92,
   "metadata": {
    "collapsed": true
   },
   "outputs": [],
   "source": [
    "def calc_loss(x_batch, y_batch, nets, loss_fn):\n",
    "    return calc_pred_loss(x_batch, y_batch, nets, loss_fn)[\"loss\"]"
   ]
  },
  {
   "cell_type": "code",
   "execution_count": 93,
   "metadata": {
    "collapsed": true
   },
   "outputs": [],
   "source": [
    "test_data = pd.read_csv(\"../data/test.csv\")\n",
    "# test_data = test_data[test_data.index % 20 == 0]\n",
    "test_loader = get_loader(test_data, shuffle=False)"
   ]
  },
  {
   "cell_type": "code",
   "execution_count": 94,
   "metadata": {
    "collapsed": true
   },
   "outputs": [],
   "source": [
    "def test(net_ensemble, loss_fn=l2_loss, visualizePreds=False):\n",
    "    test_preds = []\n",
    "    test_true = []\n",
    "    all_model_preds = []\n",
    "    avg_test_loss = 0.0\n",
    "    for nets in net_ensemble:\n",
    "        model_preds = []\n",
    "        for model in nets:\n",
    "            model.eval()\n",
    "        for x_batch, y_batch in test_loader:\n",
    "            result = calc_pred_loss(x_batch, y_batch, nets, loss_fn)\n",
    "            model_preds += result[\"preds\"]\n",
    "            avg_test_loss += result[\"loss\"]\n",
    "            test_true += list(y_batch)\n",
    "        all_model_preds.append(model_preds)\n",
    "        if visualizePreds:\n",
    "            print(\"model preds:\")\n",
    "            plot_predictions(model_preds)\n",
    "    avg_test_loss /= len(test_loader) * len(net_ensemble)\n",
    "    for i in range(len(all_model_preds[0])):\n",
    "        predx = 0\n",
    "        predy = 0\n",
    "        for model_preds in all_model_preds:\n",
    "            predx += model_preds[i][0]\n",
    "            predy += model_preds[i][1]\n",
    "        predx /= len(all_model_preds)\n",
    "        predy /= len(all_model_preds)\n",
    "        test_preds.append((predx, predy))\n",
    "    if visualizePreds:\n",
    "        print(\"total preds:\")\n",
    "        plot_predictions(test_preds)\n",
    "    test_loss = 0\n",
    "    for y_pred, y_true in zip(test_preds, test_true):\n",
    "        test_loss += loss_fn(y_pred, y_true, [[float('NaN'), float('NaN')], [float('NaN'), float('NaN')]])\n",
    "    test_loss /= len(test_preds)\n",
    "    return {\"loss\": test_loss.item(), \"preds\": test_preds}"
   ]
  },
  {
   "cell_type": "code",
   "execution_count": 109,
   "metadata": {
    "collapsed": true
   },
   "outputs": [],
   "source": [
    "def train(n_points_train_val, loss_fn, includeTests=False, prints=False, lastTrainResult=None, nEpochs=None, hidden_nodes=None):\n",
    "    train_val_points = points.head(n_points_train_val)\n",
    "    n_folds = min(n_points_train_val, 10)\n",
    "    fold_indices = [(range(n_points_train_val), range(n_points_train_val))]\n",
    "    if n_folds > 1:\n",
    "        kf = KFold(n_folds)\n",
    "        fold_indices = kf.split(train_val_points)\n",
    "\n",
    "    train_loader = []\n",
    "    val_loader = []\n",
    "    for train_index, val_index in fold_indices:\n",
    "        train_loader.append(get_loader(points.loc[train_index]))\n",
    "        val_loader.append(get_loader(points.loc[val_index]))\n",
    "    \n",
    "    nets = [[Net(n_hidden=hidden_nodes) for _ in range(4)] for _ in range(n_folds)] if lastTrainResult is None else lastTrainResult[\"nets\"]\n",
    "    opts = []\n",
    "    if lastTrainResult is None:\n",
    "        for matrixnets in nets:\n",
    "            optrow = []\n",
    "            for model in matrixnets:\n",
    "                optrow.append(Adam(model.parameters()))\n",
    "            opts.append(optrow)\n",
    "    else:\n",
    "        opts = lastTrainResult[\"opts\"]\n",
    "    val_losses = [] if lastTrainResult is None else lastTrainResult[\"val_loss\"]\n",
    "    train_losses = [] if lastTrainResult is None else lastTrainResult[\"train_loss\"]\n",
    "    test_losses = [] if lastTrainResult is None else lastTrainResult[\"test_loss\"]\n",
    "    best_test_preds = None if lastTrainResult is None else lastTrainResult[\"best_test_preds\"]\n",
    "    epochs = [] if lastTrainResult is None else lastTrainResult[\"epochs\"]\n",
    "    epoch = 0 if lastTrainResult is None else (epochs[-1] + 1)\n",
    "    start_epoch = epoch\n",
    "    epochs_per_validation = 100 if n_points_train_val > 10 else (10 if n_points_train_val > 5 else 3)\n",
    "    while True:\n",
    "        epoch_val_loss = 0\n",
    "        epoch_train_loss = 0\n",
    "        validate = (epoch % epochs_per_validation == 0)\n",
    "        for fold in range(n_folds):\n",
    "            # training\n",
    "            for model in nets[fold]:\n",
    "                model.train()\n",
    "            for x_batch, y_batch in train_loader[fold]:\n",
    "                loss = calc_loss(x_batch, y_batch, nets[fold], loss_fn)\n",
    "                for opt in opts[fold]:\n",
    "                    opt.zero_grad()\n",
    "                loss.backward()\n",
    "                for opt in opts[fold]:\n",
    "                    opt.step()\n",
    "            # validation\n",
    "            if validate:\n",
    "                for model in nets[fold]:\n",
    "                    model.eval()\n",
    "                val_loss = 0\n",
    "                train_loss = 0\n",
    "                for x_batch, y_batch in val_loader[fold]:\n",
    "                    val_loss += calc_loss(x_batch, y_batch, nets[fold], loss_fn)\n",
    "                for x_batch, y_batch in train_loader[fold]:\n",
    "                    train_loss += calc_loss(x_batch, y_batch, nets[fold], loss_fn)\n",
    "                val_loss /= len(val_loader[fold])\n",
    "                train_loss /= len(train_loader[fold])\n",
    "                epoch_val_loss += val_loss\n",
    "                epoch_train_loss += train_loss\n",
    "\n",
    "        if validate:\n",
    "            epochs.append(epoch)\n",
    "            epoch_val_loss /= n_folds\n",
    "            epoch_train_loss /= n_folds\n",
    "            val_losses.append(epoch_val_loss.item())\n",
    "            train_losses.append(epoch_train_loss.item())\n",
    "            if includeTests:\n",
    "                test_result = test(nets, visualizePreds=False)#(epoch%1000 == 0))\n",
    "                test_losses.append(test_result[\"loss\"])\n",
    "                if len(val_losses) > 1 and (best_test_preds is None or val_losses[-1] < min(val_losses[1:-1])):\n",
    "                    best_test_preds = test_result[\"preds\"]\n",
    "        if prints and epoch % 500 == 0:\n",
    "            print(\"Epoch {}:\\tTrain {}\\tVal {}\\tTest {}\".format(epoch, train_losses[-1], val_losses[-1], test_losses[-1]))\n",
    "        epoch += 1\n",
    "        reference_loss_index = 1000 // epochs_per_validation\n",
    "        if (nEpochs is None and epoch > max(n_points_train_val * 200, 8000) and val_losses[-1] >= val_losses[-reference_loss_index]) or (nEpochs is not None and epoch - start_epoch > nEpochs):\n",
    "            break\n",
    "    \n",
    "    return {\"nets\": nets, \n",
    "            \"opts\": opts,\n",
    "            \"train_loss\": train_losses, \n",
    "            \"val_loss\": val_losses, \n",
    "            \"test_loss\": test_losses, \n",
    "            \"best_test_preds\": best_test_preds,\n",
    "            \"epochs\": epochs\n",
    "           }"
   ]
  },
  {
   "cell_type": "code",
   "execution_count": 119,
   "metadata": {
    "collapsed": true,
    "scrolled": false
   },
   "outputs": [],
   "source": [
    "def visualize_train(train_results, keys=[\"train_loss\", \"val_loss\", \"test_loss\"]):\n",
    "    for i, train_result in enumerate(train_results):\n",
    "        for key in keys:\n",
    "            plt.plot(train_result[\"epochs\"], train_result[key], label='{}_{}'.format(key, i))\n",
    "    plt.xlabel('epoch')\n",
    "    plt.ylabel('loss')\n",
    "    plt.legend(loc='best')\n",
    "    plt.show()"
   ]
  },
  {
   "cell_type": "code",
   "execution_count": 111,
   "metadata": {
    "collapsed": true
   },
   "outputs": [],
   "source": [
    "def plot_predictions(preds):\n",
    "    plt.figure()\n",
    "    plt.gca().set_aspect('equal', adjustable='box')\n",
    "    plt.ylim(-1.2, 1.2)\n",
    "    plt.xlim(-1.2, 1.2)\n",
    "    for i, pred in enumerate(preds):\n",
    "        test_point = test_data.iloc[i]\n",
    "        plt.plot([test_point[\"x1\"], test_point[\"x2\"]], [test_point[\"y1\"], test_point[\"y2\"]], color=\"green\", linewidth=0.5)\n",
    "        plt.plot([pred[0], test_point[\"x2\"]], [pred[1], test_point[\"y2\"]], color=\"red\", linewidth=0.5)\n",
    "\n",
    "    plt.show()"
   ]
  },
  {
   "cell_type": "markdown",
   "metadata": {},
   "source": [
    "## Train with n points until convergence using l2_loss"
   ]
  },
  {
   "cell_type": "markdown",
   "metadata": {},
   "source": [
    "### Compare different numbers of hidden nodes"
   ]
  },
  {
   "cell_type": "code",
   "execution_count": 115,
   "metadata": {
    "scrolled": false
   },
   "outputs": [
    {
     "name": "stdout",
     "output_type": "stream",
     "text": [
      "Start calculation for 5 hidden nodes.\n",
      "Epoch 0:\tTrain 1.2656217813491821\tVal 1.5933802127838135\tTest 1.0181365013122559\n",
      "Epoch 300:\tTrain 0.6382061243057251\tVal 1.4919408559799194\tTest 1.0879310369491577\n",
      "Epoch 600:\tTrain 0.5220001339912415\tVal 1.4592114686965942\tTest 0.9842110872268677\n",
      "Epoch 900:\tTrain 0.4240238666534424\tVal 1.3467357158660889\tTest 0.9003166556358337\n",
      "Epoch 1200:\tTrain 0.3526032567024231\tVal 1.2442187070846558\tTest 0.8430065512657166\n",
      "Epoch 1500:\tTrain 0.30334529280662537\tVal 1.1954865455627441\tTest 0.7966758608818054\n",
      "Epoch 1800:\tTrain 0.2630772292613983\tVal 1.1889588832855225\tTest 0.7498970031738281\n",
      "Epoch 2100:\tTrain 0.22705340385437012\tVal 1.1890366077423096\tTest 0.7006592750549316\n",
      "Epoch 2400:\tTrain 0.1945725679397583\tVal 1.179792046546936\tTest 0.6492157578468323\n",
      "Epoch 2700:\tTrain 0.16602441668510437\tVal 1.1588841676712036\tTest 0.5978251695632935\n",
      "Epoch 3000:\tTrain 0.1424407958984375\tVal 1.126903772354126\tTest 0.5486020445823669\n",
      "Epoch 3300:\tTrain 0.12176742404699326\tVal 1.0861281156539917\tTest 0.5038894414901733\n",
      "Epoch 3600:\tTrain 0.10267587751150131\tVal 1.0387130975723267\tTest 0.46316710114479065\n",
      "Epoch 3900:\tTrain 0.08790911734104156\tVal 0.9894733428955078\tTest 0.42735838890075684\n",
      "Epoch 4200:\tTrain 0.07507054507732391\tVal 0.9400596618652344\tTest 0.3958755135536194\n",
      "Epoch 4500:\tTrain 0.06413213908672333\tVal 0.8922106027603149\tTest 0.3687841594219208\n",
      "Epoch 4800:\tTrain 0.055151987820863724\tVal 0.8436321020126343\tTest 0.3455725610256195\n",
      "Epoch 5100:\tTrain 0.04767053201794624\tVal 0.795301079750061\tTest 0.3257959485054016\n",
      "Epoch 5400:\tTrain 0.04140990599989891\tVal 0.7504645586013794\tTest 0.3101126551628113\n",
      "Epoch 5700:\tTrain 0.036140963435173035\tVal 0.7076032161712646\tTest 0.29761725664138794\n",
      "Epoch 6000:\tTrain 0.03196655958890915\tVal 0.6660233736038208\tTest 0.28876394033432007\n",
      "Epoch 6300:\tTrain 0.028326857835054398\tVal 0.6263755559921265\tTest 0.2832639217376709\n",
      "Epoch 6600:\tTrain 0.025348389521241188\tVal 0.5882077813148499\tTest 0.2808648645877838\n",
      "Epoch 6900:\tTrain 0.022609347477555275\tVal 0.5515196919441223\tTest 0.28193196654319763\n",
      "Epoch 7200:\tTrain 0.019932910799980164\tVal 0.5143992304801941\tTest 0.2845308780670166\n",
      "Epoch 7500:\tTrain 0.01744813844561577\tVal 0.482389360666275\tTest 0.28831958770751953\n",
      "Epoch 7800:\tTrain 0.015228604897856712\tVal 0.4608122706413269\tTest 0.29303452372550964\n",
      "Epoch 8100:\tTrain 0.013322743587195873\tVal 0.46618491411209106\tTest 0.2974153459072113\n",
      "Epoch 8400:\tTrain 0.011928478255867958\tVal 0.5114951133728027\tTest 0.3013298511505127\n",
      "Epoch 8700:\tTrain 0.010883321985602379\tVal 0.554463267326355\tTest 0.305619478225708\n",
      "Epoch 9000:\tTrain 0.010055383667349815\tVal 0.5755828022956848\tTest 0.3108406662940979\n",
      "Epoch 9300:\tTrain 0.009386304765939713\tVal 0.5906508564949036\tTest 0.31685617566108704\n",
      "Epoch 9600:\tTrain 0.008798906579613686\tVal 0.6009446382522583\tTest 0.32339009642601013\n",
      "Epoch 9900:\tTrain 0.008289585821330547\tVal 0.6128283143043518\tTest 0.33001792430877686\n",
      "Epoch 10200:\tTrain 0.007845424115657806\tVal 0.6247414350509644\tTest 0.33720332384109497\n",
      "Epoch 10500:\tTrain 0.0074618784710764885\tVal 0.6382746696472168\tTest 0.34421759843826294\n",
      "Epoch 10800:\tTrain 0.007145226001739502\tVal 0.6528385877609253\tTest 0.35137614607810974\n",
      "Epoch 11100:\tTrain 0.006863407790660858\tVal 0.6679912805557251\tTest 0.3584241271018982\n",
      "Epoch 11400:\tTrain 0.006626924965530634\tVal 0.6800531148910522\tTest 0.3653661906719208\n",
      "Epoch 11700:\tTrain 0.006420737598091364\tVal 0.6907651424407959\tTest 0.37182191014289856\n",
      "Epoch 12000:\tTrain 0.006244194693863392\tVal 0.7018524408340454\tTest 0.37793242931365967\n",
      "Epoch 12300:\tTrain 0.006085334345698357\tVal 0.7127717137336731\tTest 0.38345667719841003\n",
      "Epoch 12600:\tTrain 0.005947129335254431\tVal 0.7195466756820679\tTest 0.3885558545589447\n",
      "Epoch 12900:\tTrain 0.005817922297865152\tVal 0.7265098690986633\tTest 0.3929985463619232\n",
      "Epoch 13200:\tTrain 0.005699863191694021\tVal 0.7339035272598267\tTest 0.39731818437576294\n",
      "Epoch 13500:\tTrain 0.005591812543570995\tVal 0.7410528063774109\tTest 0.4010160565376282\n",
      "Epoch 13800:\tTrain 0.005487382411956787\tVal 0.7457466125488281\tTest 0.4044164717197418\n",
      "Epoch 14100:\tTrain 0.00539040332660079\tVal 0.7514129877090454\tTest 0.40723395347595215\n",
      "Epoch 14400:\tTrain 0.005298323929309845\tVal 0.7556323409080505\tTest 0.40979188680648804\n",
      "Epoch 14700:\tTrain 0.0052091581746935844\tVal 0.760122537612915\tTest 0.4123905301094055\n",
      "Epoch 15000:\tTrain 0.0051210178062319756\tVal 0.764661431312561\tTest 0.41387176513671875\n",
      "Start calculation for 10 hidden nodes.\n",
      "Epoch 0:\tTrain 1.205521821975708\tVal 1.0454041957855225\tTest 1.0455642938613892\n",
      "Epoch 300:\tTrain 0.5596786737442017\tVal 1.418695092201233\tTest 1.0310063362121582\n",
      "Epoch 600:\tTrain 0.39964035153388977\tVal 1.5093297958374023\tTest 0.8858543038368225\n",
      "Epoch 900:\tTrain 0.29435309767723083\tVal 1.6528408527374268\tTest 0.7981053590774536\n",
      "Epoch 1200:\tTrain 0.22987809777259827\tVal 1.8219530582427979\tTest 0.7231292128562927\n",
      "Epoch 1500:\tTrain 0.18355698883533478\tVal 1.9003393650054932\tTest 0.6435620784759521\n",
      "Epoch 1800:\tTrain 0.14449062943458557\tVal 1.8888975381851196\tTest 0.5683847069740295\n",
      "Epoch 2100:\tTrain 0.11371579021215439\tVal 1.8262014389038086\tTest 0.5055111050605774\n",
      "Epoch 2400:\tTrain 0.0914742723107338\tVal 1.7428497076034546\tTest 0.45446649193763733\n",
      "Epoch 2700:\tTrain 0.07587912678718567\tVal 1.6551135778427124\tTest 0.41284528374671936\n",
      "Epoch 3000:\tTrain 0.06279532611370087\tVal 1.574137568473816\tTest 0.376462459564209\n",
      "Epoch 3300:\tTrain 0.05272234231233597\tVal 1.498908519744873\tTest 0.3463388681411743\n",
      "Epoch 3600:\tTrain 0.0450943298637867\tVal 1.435938835144043\tTest 0.31944429874420166\n",
      "Epoch 3900:\tTrain 0.03820617124438286\tVal 1.377595067024231\tTest 0.295973002910614\n",
      "Epoch 4200:\tTrain 0.033189449459314346\tVal 1.3228594064712524\tTest 0.27490249276161194\n",
      "Epoch 4500:\tTrain 0.02895086444914341\tVal 1.2750110626220703\tTest 0.25672030448913574\n",
      "Epoch 4800:\tTrain 0.025738060474395752\tVal 1.2293508052825928\tTest 0.24208208918571472\n",
      "Epoch 5100:\tTrain 0.023151857778429985\tVal 1.1873424053192139\tTest 0.2311607450246811\n",
      "Epoch 5400:\tTrain 0.021015089005231857\tVal 1.146364688873291\tTest 0.22344988584518433\n",
      "Epoch 5700:\tTrain 0.01916005276143551\tVal 1.1099722385406494\tTest 0.21931955218315125\n",
      "Epoch 6000:\tTrain 0.017519449815154076\tVal 1.071353793144226\tTest 0.21838675439357758\n",
      "Epoch 6300:\tTrain 0.016047699376940727\tVal 1.0364584922790527\tTest 0.22027066349983215\n",
      "Epoch 6600:\tTrain 0.014700864441692829\tVal 1.005759358406067\tTest 0.2250269055366516\n",
      "Epoch 6900:\tTrain 0.013448705896735191\tVal 0.9713795781135559\tTest 0.23206055164337158\n",
      "Epoch 7200:\tTrain 0.012303569354116917\tVal 0.9419921040534973\tTest 0.24044501781463623\n",
      "Epoch 7500:\tTrain 0.011250009760260582\tVal 0.912004292011261\tTest 0.24998222291469574\n",
      "Epoch 7800:\tTrain 0.010285526514053345\tVal 0.8810423612594604\tTest 0.25968137383461\n",
      "Epoch 8100:\tTrain 0.00940128043293953\tVal 0.8502374887466431\tTest 0.26953038573265076\n",
      "Epoch 8400:\tTrain 0.008582090958952904\tVal 0.8194096684455872\tTest 0.27914413809776306\n",
      "Epoch 8700:\tTrain 0.007839836180210114\tVal 0.7885693311691284\tTest 0.28847333788871765\n",
      "Epoch 9000:\tTrain 0.0071553876623511314\tVal 0.7568979263305664\tTest 0.2973087728023529\n",
      "Epoch 9300:\tTrain 0.0065268115140497684\tVal 0.7338908910751343\tTest 0.3055148720741272\n",
      "Epoch 9600:\tTrain 0.00595841696485877\tVal 0.7326363325119019\tTest 0.31167083978652954\n",
      "Epoch 9900:\tTrain 0.00542971957474947\tVal 0.7940303087234497\tTest 0.31326818466186523\n",
      "Epoch 10200:\tTrain 0.004948565736413002\tVal 0.7838317155838013\tTest 0.3163091242313385\n",
      "Epoch 10500:\tTrain 0.004526178352534771\tVal 0.7578953504562378\tTest 0.32040783762931824\n",
      "Epoch 10800:\tTrain 0.004154452588409185\tVal 0.7335394620895386\tTest 0.3233548700809479\n",
      "Epoch 11100:\tTrain 0.0038299125153571367\tVal 0.7138364911079407\tTest 0.3260591924190521\n",
      "Epoch 11400:\tTrain 0.0035431268624961376\tVal 0.698441207408905\tTest 0.32853901386260986\n",
      "Epoch 11700:\tTrain 0.0032982446718961\tVal 0.688159167766571\tTest 0.3298000693321228\n",
      "Epoch 12000:\tTrain 0.003091358346864581\tVal 0.6800738573074341\tTest 0.331199049949646\n",
      "Epoch 12300:\tTrain 0.0029148433823138475\tVal 0.6756739616394043\tTest 0.332145094871521\n",
      "Epoch 12600:\tTrain 0.0027700760401785374\tVal 0.6723061203956604\tTest 0.3334066867828369\n",
      "Epoch 12900:\tTrain 0.002646498382091522\tVal 0.6733717918395996\tTest 0.3346586227416992\n"
     ]
    },
    {
     "name": "stdout",
     "output_type": "stream",
     "text": [
      "Epoch 13200:\tTrain 0.0025432747788727283\tVal 0.6774967312812805\tTest 0.33639925718307495\n",
      "Epoch 13500:\tTrain 0.002451749052852392\tVal 0.6839764714241028\tTest 0.338133305311203\n",
      "Epoch 13800:\tTrain 0.002372993854805827\tVal 0.6951085329055786\tTest 0.34042951464653015\n",
      "Epoch 14100:\tTrain 0.0022897543385624886\tVal 0.7057258486747742\tTest 0.3421088457107544\n",
      "Epoch 14400:\tTrain 0.0022196294739842415\tVal 0.7164481282234192\tTest 0.3442666530609131\n",
      "Epoch 14700:\tTrain 0.0021506831981241703\tVal 0.7281302213668823\tTest 0.3456456661224365\n",
      "Epoch 15000:\tTrain 0.0020879667717963457\tVal 0.7354400753974915\tTest 0.34755778312683105\n",
      "Start calculation for 20 hidden nodes.\n",
      "Epoch 0:\tTrain 1.228351354598999\tVal 1.5881725549697876\tTest 1.0808171033859253\n",
      "Epoch 300:\tTrain 0.4562312960624695\tVal 1.365513563156128\tTest 0.9316295981407166\n",
      "Epoch 600:\tTrain 0.3013565242290497\tVal 1.388683557510376\tTest 0.8076733350753784\n",
      "Epoch 900:\tTrain 0.21543550491333008\tVal 1.4900320768356323\tTest 0.6902016401290894\n",
      "Epoch 1200:\tTrain 0.15492013096809387\tVal 1.5835884809494019\tTest 0.5752978324890137\n",
      "Epoch 1500:\tTrain 0.11017843335866928\tVal 1.5460535287857056\tTest 0.49568647146224976\n",
      "Epoch 1800:\tTrain 0.08200634270906448\tVal 1.4168617725372314\tTest 0.4440514147281647\n",
      "Epoch 2100:\tTrain 0.06312984973192215\tVal 1.2742245197296143\tTest 0.4072612524032593\n",
      "Epoch 2400:\tTrain 0.050839196890592575\tVal 1.1370271444320679\tTest 0.3764704465866089\n",
      "Epoch 2700:\tTrain 0.04133746400475502\tVal 1.011807918548584\tTest 0.34888505935668945\n",
      "Epoch 3000:\tTrain 0.033923517912626266\tVal 0.9056692123413086\tTest 0.3227488696575165\n",
      "Epoch 3300:\tTrain 0.02834198996424675\tVal 0.8107194900512695\tTest 0.2974332869052887\n",
      "Epoch 3600:\tTrain 0.023742426186800003\tVal 0.7413262128829956\tTest 0.27393701672554016\n",
      "Epoch 3900:\tTrain 0.020256688818335533\tVal 0.6807984113693237\tTest 0.2525843679904938\n",
      "Epoch 4200:\tTrain 0.01749466545879841\tVal 0.635879635810852\tTest 0.23474842309951782\n",
      "Epoch 4500:\tTrain 0.015377034433186054\tVal 0.6025183200836182\tTest 0.21930649876594543\n",
      "Epoch 4800:\tTrain 0.013695416040718555\tVal 0.5760434865951538\tTest 0.20641182363033295\n",
      "Epoch 5100:\tTrain 0.012286463752388954\tVal 0.5532069802284241\tTest 0.1962766796350479\n",
      "Epoch 5400:\tTrain 0.011142018251121044\tVal 0.5284723043441772\tTest 0.18843719363212585\n",
      "Epoch 5700:\tTrain 0.01015847735106945\tVal 0.5073248147964478\tTest 0.1833467036485672\n",
      "Epoch 6000:\tTrain 0.009304562583565712\tVal 0.4868184030056\tTest 0.17995411157608032\n",
      "Epoch 6300:\tTrain 0.008551517501473427\tVal 0.472356379032135\tTest 0.17821095883846283\n",
      "Epoch 6600:\tTrain 0.007846524007618427\tVal 0.47506505250930786\tTest 0.1778564304113388\n",
      "Epoch 6900:\tTrain 0.007220370229333639\tVal 0.4953336715698242\tTest 0.17913487553596497\n",
      "Epoch 7200:\tTrain 0.006652367766946554\tVal 0.5190228223800659\tTest 0.18201875686645508\n",
      "Epoch 7500:\tTrain 0.006126453168690205\tVal 0.5411328077316284\tTest 0.18629129230976105\n",
      "Epoch 7800:\tTrain 0.005666358396410942\tVal 0.5625041127204895\tTest 0.19141821563243866\n",
      "Epoch 8100:\tTrain 0.005271933041512966\tVal 0.5809633135795593\tTest 0.19754044711589813\n",
      "Epoch 8400:\tTrain 0.004927519243210554\tVal 0.5953608155250549\tTest 0.20390240848064423\n",
      "Epoch 8700:\tTrain 0.00464304443448782\tVal 0.6089969873428345\tTest 0.21104994416236877\n",
      "Epoch 9000:\tTrain 0.00439040083438158\tVal 0.61859130859375\tTest 0.21861276030540466\n",
      "Epoch 9300:\tTrain 0.004180704243481159\tVal 0.6302167177200317\tTest 0.22628654539585114\n",
      "Epoch 9600:\tTrain 0.003981738351285458\tVal 0.6407625079154968\tTest 0.2346024215221405\n",
      "Epoch 9900:\tTrain 0.003815897274762392\tVal 0.6520284414291382\tTest 0.2431432455778122\n",
      "Epoch 10200:\tTrain 0.003654100466519594\tVal 0.6584337949752808\tTest 0.25185129046440125\n",
      "Epoch 10500:\tTrain 0.003520100610330701\tVal 0.6659756898880005\tTest 0.26092442870140076\n",
      "Epoch 10800:\tTrain 0.003386694472283125\tVal 0.6771665811538696\tTest 0.2686566710472107\n",
      "Epoch 11100:\tTrain 0.0032652870286256075\tVal 0.6810263991355896\tTest 0.2765175402164459\n",
      "Epoch 11400:\tTrain 0.0031579160131514072\tVal 0.6890032887458801\tTest 0.283285915851593\n",
      "Epoch 11700:\tTrain 0.0030537324491888285\tVal 0.6944103240966797\tTest 0.29025277495384216\n",
      "Epoch 12000:\tTrain 0.002953220158815384\tVal 0.698078453540802\tTest 0.29598137736320496\n",
      "Epoch 12300:\tTrain 0.002862033434212208\tVal 0.7056220769882202\tTest 0.30152764916419983\n",
      "Epoch 12600:\tTrain 0.002795096253976226\tVal 0.7065958976745605\tTest 0.30674225091934204\n",
      "Epoch 12900:\tTrain 0.002699063392356038\tVal 0.7130708694458008\tTest 0.31081727147102356\n",
      "Epoch 13200:\tTrain 0.0026239226572215557\tVal 0.7203263640403748\tTest 0.31453195214271545\n",
      "Epoch 13500:\tTrain 0.0025459895841777325\tVal 0.7238432168960571\tTest 0.3181982636451721\n",
      "Epoch 13800:\tTrain 0.002482389332726598\tVal 0.7260288596153259\tTest 0.32147911190986633\n",
      "Epoch 14100:\tTrain 0.0024138973094522953\tVal 0.7348055839538574\tTest 0.32363569736480713\n",
      "Epoch 14400:\tTrain 0.002340634586289525\tVal 0.7407522797584534\tTest 0.32568150758743286\n",
      "Epoch 14700:\tTrain 0.0022854411508888006\tVal 0.745144248008728\tTest 0.32775551080703735\n",
      "Epoch 15000:\tTrain 0.0022219899110496044\tVal 0.7501125335693359\tTest 0.3291161358356476\n",
      "Start calculation for 50 hidden nodes.\n",
      "Epoch 0:\tTrain 1.267455816268921\tVal 1.0171301364898682\tTest 1.036399245262146\n",
      "Epoch 300:\tTrain 0.32936304807662964\tVal 1.600731611251831\tTest 0.8445618152618408\n",
      "Epoch 600:\tTrain 0.1861773133277893\tVal 1.7054131031036377\tTest 0.6357881426811218\n",
      "Epoch 900:\tTrain 0.10849893093109131\tVal 1.4602162837982178\tTest 0.47397804260253906\n",
      "Epoch 1200:\tTrain 0.07152429223060608\tVal 1.1732381582260132\tTest 0.40741249918937683\n",
      "Epoch 1500:\tTrain 0.053469467908144\tVal 0.9643303751945496\tTest 0.37583786249160767\n",
      "Epoch 1800:\tTrain 0.043120596557855606\tVal 0.8062800168991089\tTest 0.35088321566581726\n",
      "Epoch 2100:\tTrain 0.035371772944927216\tVal 0.6945494413375854\tTest 0.3280424475669861\n",
      "Epoch 2400:\tTrain 0.029526282101869583\tVal 0.6172312498092651\tTest 0.30456846952438354\n",
      "Epoch 2700:\tTrain 0.024869579821825027\tVal 0.575874924659729\tTest 0.2846698462963104\n",
      "Epoch 3000:\tTrain 0.021140852943062782\tVal 0.5385211110115051\tTest 0.26440468430519104\n",
      "Epoch 3300:\tTrain 0.018229860812425613\tVal 0.4943392872810364\tTest 0.2447999268770218\n",
      "Epoch 3600:\tTrain 0.015824269503355026\tVal 0.45436978340148926\tTest 0.22780272364616394\n",
      "Epoch 3900:\tTrain 0.01384680438786745\tVal 0.41890278458595276\tTest 0.21169596910476685\n",
      "Epoch 4200:\tTrain 0.012248946353793144\tVal 0.39135318994522095\tTest 0.19778971374034882\n",
      "Epoch 4500:\tTrain 0.01095891185104847\tVal 0.3767123818397522\tTest 0.18586693704128265\n",
      "Epoch 4800:\tTrain 0.009903943166136742\tVal 0.36525049805641174\tTest 0.175452321767807\n",
      "Epoch 5100:\tTrain 0.009005771949887276\tVal 0.35960084199905396\tTest 0.16708222031593323\n",
      "Epoch 5400:\tTrain 0.00833048764616251\tVal 0.36397987604141235\tTest 0.16080567240715027\n",
      "Epoch 5700:\tTrain 0.007729612290859222\tVal 0.3751121163368225\tTest 0.15521204471588135\n",
      "Epoch 6000:\tTrain 0.007232471369206905\tVal 0.38417139649391174\tTest 0.1520506888628006\n",
      "Epoch 6300:\tTrain 0.006800907664000988\tVal 0.40684834122657776\tTest 0.15009115636348724\n",
      "Epoch 6600:\tTrain 0.006395191885530949\tVal 0.42659035325050354\tTest 0.14914020895957947\n",
      "Epoch 6900:\tTrain 0.006013654172420502\tVal 0.44390541315078735\tTest 0.14998137950897217\n",
      "Epoch 7200:\tTrain 0.005664120428264141\tVal 0.46291404962539673\tTest 0.15157684683799744\n",
      "Epoch 7500:\tTrain 0.005321790464222431\tVal 0.4799688756465912\tTest 0.15486456453800201\n",
      "Epoch 7800:\tTrain 0.005045037250965834\tVal 0.49022993445396423\tTest 0.15882150828838348\n",
      "Epoch 8100:\tTrain 0.004774396773427725\tVal 0.503271758556366\tTest 0.16374434530735016\n",
      "Epoch 8400:\tTrain 0.004546822514384985\tVal 0.4989680349826813\tTest 0.16902093589305878\n",
      "Epoch 8700:\tTrain 0.004298723302781582\tVal 0.5065733194351196\tTest 0.17551565170288086\n",
      "Epoch 9000:\tTrain 0.004092915914952755\tVal 0.5030598640441895\tTest 0.18175052106380463\n",
      "Epoch 9300:\tTrain 0.0038901150692254305\tVal 0.490164577960968\tTest 0.18806304037570953\n",
      "Epoch 9600:\tTrain 0.003724803449586034\tVal 0.48901885747909546\tTest 0.1936398297548294\n",
      "Epoch 9900:\tTrain 0.003577784402295947\tVal 0.4767995774745941\tTest 0.1989074945449829\n",
      "Epoch 10200:\tTrain 0.0034292663913220167\tVal 0.465142160654068\tTest 0.2034294605255127\n",
      "Epoch 10500:\tTrain 0.0033225889783352613\tVal 0.4613078534603119\tTest 0.2080371379852295\n"
     ]
    },
    {
     "name": "stdout",
     "output_type": "stream",
     "text": [
      "Epoch 10800:\tTrain 0.003195617813616991\tVal 0.4415082037448883\tTest 0.21146881580352783\n",
      "Epoch 11100:\tTrain 0.0030639786273241043\tVal 0.4226040244102478\tTest 0.21459442377090454\n",
      "Epoch 11400:\tTrain 0.0029785274527966976\tVal 0.41714611649513245\tTest 0.21751514077186584\n",
      "Epoch 11700:\tTrain 0.002847019350156188\tVal 0.40533310174942017\tTest 0.22022129595279694\n",
      "Epoch 12000:\tTrain 0.0027681165374815464\tVal 0.3914874494075775\tTest 0.22141417860984802\n",
      "Epoch 12300:\tTrain 0.0026576474774628878\tVal 0.38211768865585327\tTest 0.2229185700416565\n",
      "Epoch 12600:\tTrain 0.0025909740943461657\tVal 0.37386733293533325\tTest 0.22337090969085693\n",
      "Epoch 12900:\tTrain 0.0024890154600143433\tVal 0.36507880687713623\tTest 0.22462567687034607\n",
      "Epoch 13200:\tTrain 0.002401809673756361\tVal 0.35993534326553345\tTest 0.22551746666431427\n",
      "Epoch 13500:\tTrain 0.002353407209739089\tVal 0.34644773602485657\tTest 0.22519323229789734\n",
      "Epoch 13800:\tTrain 0.002278198953717947\tVal 0.344333291053772\tTest 0.22493092715740204\n",
      "Epoch 14100:\tTrain 0.0022193905897438526\tVal 0.3350192606449127\tTest 0.22488939762115479\n",
      "Epoch 14400:\tTrain 0.0021142568439245224\tVal 0.33575406670570374\tTest 0.2242518663406372\n",
      "Epoch 14700:\tTrain 0.0020493422634899616\tVal 0.3226168751716614\tTest 0.22314384579658508\n",
      "Epoch 15000:\tTrain 0.002001675311475992\tVal 0.32321104407310486\tTest 0.22226545214653015\n"
     ]
    },
    {
     "data": {
      "image/png": "[encoded data removed]",
      "text/plain": [
       "<matplotlib.figure.Figure at 0x120fc7278>"
      ]
     },
     "metadata": {},
     "output_type": "display_data"
    }
   ],
   "source": [
    "results_hidden_nodes = []\n",
    "n_points_train_val = 10\n",
    "for n_hidden in [5]:#[5, 10, 20, 50, 100]:\n",
    "    print(\"Start calculation for {} hidden nodes.\".format(n_hidden))\n",
    "    nEpochs = 100#20000 if n_hidden < 50 else 70000\n",
    "    train_result = train(n_points_train_val, l2_loss, includeTests=True, prints=True, nEpochs=nEpochs, hidden_nodes=n_hidden)\n",
    "    results_hidden_nodes.append([n_hidden, train_result])\n",
    "results_hidden_nodes = pd.DataFrame(results_hidden_nodes, columns=[\"n_hidden\", \"train_result\"])\n",
    "results_hidden_nodes.to_csv(\"results_hidden_nodes.csv\", index=False)"
   ]
  },
  {
   "cell_type": "code",
   "execution_count": null,
   "metadata": {
    "collapsed": true
   },
   "outputs": [],
   "source": [
    "# results_hidden_nodes = pd.read_csv(\"results_hidden_nodes.csv\")\n",
    "# df[\"train_result\"] = df.apply(lambda row: eval(row[\"train_result\"]), axis=1)"
   ]
  },
  {
   "cell_type": "code",
   "execution_count": 129,
   "metadata": {},
   "outputs": [
    {
     "data": {
      "image/png": "[encoded data removed]",
      "text/plain": [
       "<matplotlib.figure.Figure at 0x120b32198>"
      ]
     },
     "metadata": {},
     "output_type": "display_data"
    }
   ],
   "source": [
    "# visualize_train(results_hidden_nodes[\"train_result\"], keys=[\"val_loss\"])"
   ]
  },
  {
   "cell_type": "markdown",
   "metadata": {},
   "source": [
    "Result: Choose 50 hidden nodes (almost same validation loss with much less epochs)"
   ]
  },
  {
   "cell_type": "markdown",
   "metadata": {},
   "source": [
    "### Calculate for different numbers of points and save results"
   ]
  },
  {
   "cell_type": "code",
   "execution_count": 103,
   "metadata": {
    "scrolled": false
   },
   "outputs": [
    {
     "name": "stdout",
     "output_type": "stream",
     "text": [
      "Start calculation for 11 points.\n",
      "Epoch 0:\tTrain 1.1863034963607788\tVal 1.043672800064087\tTest 1.013802170753479\n",
      "Epoch 100:\tTrain 0.5618268847465515\tVal 1.3793516159057617\tTest 1.0162570476531982\n",
      "Epoch 200:\tTrain 0.43317651748657227\tVal 1.4479765892028809\tTest 0.9132641553878784\n",
      "Epoch 300:\tTrain 0.34183016419410706\tVal 1.4632699489593506\tTest 0.847815990447998\n",
      "Epoch 400:\tTrain 0.28011733293533325\tVal 1.4955203533172607\tTest 0.7913162708282471\n",
      "Epoch 500:\tTrain 0.23639965057373047\tVal 1.5305837392807007\tTest 0.7312520146369934\n",
      "Epoch 600:\tTrain 0.19970659911632538\tVal 1.5614252090454102\tTest 0.6672553420066833\n",
      "Epoch 700:\tTrain 0.17110061645507812\tVal 1.5636699199676514\tTest 0.6055024862289429\n",
      "Epoch 800:\tTrain 0.14513972401618958\tVal 1.5403518676757812\tTest 0.5515664219856262\n",
      "Epoch 900:\tTrain 0.12398377805948257\tVal 1.4937855005264282\tTest 0.5088491439819336\n",
      "Epoch 1000:\tTrain 0.10609950125217438\tVal 1.4371559619903564\tTest 0.4730468690395355\n",
      "Epoch 1100:\tTrain 0.09193114936351776\tVal 1.3800086975097656\tTest 0.44595324993133545\n",
      "Epoch 1200:\tTrain 0.08105041831731796\tVal 1.322831392288208\tTest 0.42494866251945496\n",
      "Epoch 1300:\tTrain 0.07272645086050034\tVal 1.258172631263733\tTest 0.4065668284893036\n",
      "Epoch 1400:\tTrain 0.06572074443101883\tVal 1.2055528163909912\tTest 0.3927662968635559\n",
      "Epoch 1500:\tTrain 0.06104021146893501\tVal 1.150766134262085\tTest 0.3807067275047302\n",
      "Epoch 1600:\tTrain 0.056600384414196014\tVal 1.102782964706421\tTest 0.3699156641960144\n",
      "Epoch 1700:\tTrain 0.05269312113523483\tVal 1.0500109195709229\tTest 0.3601529598236084\n",
      "Epoch 1800:\tTrain 0.04947420582175255\tVal 0.9963847398757935\tTest 0.3512093126773834\n",
      "Epoch 1900:\tTrain 0.04592973738908768\tVal 0.9560867547988892\tTest 0.34278157353401184\n",
      "Epoch 2000:\tTrain 0.043270811438560486\tVal 0.9116786122322083\tTest 0.3358679413795471\n",
      "Epoch 2100:\tTrain 0.04094148799777031\tVal 0.8727426528930664\tTest 0.3281210958957672\n",
      "Epoch 2200:\tTrain 0.03832108899950981\tVal 0.8365270495414734\tTest 0.3213343024253845\n",
      "Epoch 2300:\tTrain 0.036428067833185196\tVal 0.7980073094367981\tTest 0.3140648901462555\n",
      "Epoch 2400:\tTrain 0.034181952476501465\tVal 0.7683473825454712\tTest 0.3070157468318939\n",
      "Epoch 2500:\tTrain 0.032533951103687286\tVal 0.740794837474823\tTest 0.30073755979537964\n",
      "Epoch 2600:\tTrain 0.03078211471438408\tVal 0.7132635116577148\tTest 0.29432153701782227\n",
      "Epoch 2700:\tTrain 0.028971904888749123\tVal 0.6871932148933411\tTest 0.2880639135837555\n",
      "Epoch 2800:\tTrain 0.02758556604385376\tVal 0.6693743467330933\tTest 0.28236591815948486\n",
      "Epoch 2900:\tTrain 0.02610422670841217\tVal 0.6504771709442139\tTest 0.275899201631546\n",
      "Epoch 3000:\tTrain 0.02490270882844925\tVal 0.6272521615028381\tTest 0.2693854570388794\n",
      "Epoch 3100:\tTrain 0.023563073948025703\tVal 0.6094213128089905\tTest 0.26371029019355774\n",
      "Epoch 3200:\tTrain 0.022569265216588974\tVal 0.5995397567749023\tTest 0.25797921419143677\n",
      "Epoch 3300:\tTrain 0.021481065079569817\tVal 0.5815218687057495\tTest 0.25246602296829224\n",
      "Epoch 3400:\tTrain 0.020524490624666214\tVal 0.5715298652648926\tTest 0.24689820408821106\n",
      "Epoch 3500:\tTrain 0.019505029544234276\tVal 0.5615843534469604\tTest 0.24144169688224792\n",
      "Epoch 3600:\tTrain 0.018698832020163536\tVal 0.5560117959976196\tTest 0.23670780658721924\n",
      "Epoch 3700:\tTrain 0.01794460043311119\tVal 0.5462425351142883\tTest 0.23200586438179016\n",
      "Epoch 3800:\tTrain 0.017170067876577377\tVal 0.5428522825241089\tTest 0.22668468952178955\n",
      "Epoch 3900:\tTrain 0.01649080403149128\tVal 0.5359428524971008\tTest 0.22210681438446045\n",
      "Epoch 4000:\tTrain 0.015915825963020325\tVal 0.5329961180686951\tTest 0.21803054213523865\n",
      "Epoch 4100:\tTrain 0.01527800876647234\tVal 0.5279926657676697\tTest 0.21337373554706573\n",
      "Epoch 4200:\tTrain 0.01474276464432478\tVal 0.5223327875137329\tTest 0.20922455191612244\n",
      "Epoch 4300:\tTrain 0.014217736199498177\tVal 0.5157800912857056\tTest 0.205180361866951\n",
      "Epoch 4400:\tTrain 0.013786974363029003\tVal 0.5131645798683167\tTest 0.20140676200389862\n",
      "Epoch 4500:\tTrain 0.01328214816749096\tVal 0.5056129693984985\tTest 0.1981220692396164\n",
      "Epoch 4600:\tTrain 0.012823994271457195\tVal 0.5053135752677917\tTest 0.19466374814510345\n",
      "Epoch 4700:\tTrain 0.01242770068347454\tVal 0.4988786578178406\tTest 0.19145548343658447\n",
      "Epoch 4800:\tTrain 0.012043250724673271\tVal 0.4916292130947113\tTest 0.18821540474891663\n",
      "Epoch 4900:\tTrain 0.011697168461978436\tVal 0.4859204888343811\tTest 0.18511459231376648\n",
      "Epoch 5000:\tTrain 0.011329343542456627\tVal 0.4826071858406067\tTest 0.18239933252334595\n",
      "Epoch 5100:\tTrain 0.010981956496834755\tVal 0.4759391248226166\tTest 0.18015962839126587\n",
      "Epoch 5200:\tTrain 0.010652738623321056\tVal 0.4698330760002136\tTest 0.17751002311706543\n",
      "Epoch 5300:\tTrain 0.010363223031163216\tVal 0.4615035951137543\tTest 0.1753578633069992\n",
      "Epoch 5400:\tTrain 0.010054272599518299\tVal 0.4575767517089844\tTest 0.17324002087116241\n",
      "Epoch 5500:\tTrain 0.009774911217391491\tVal 0.4503970146179199\tTest 0.17165477573871613\n",
      "Epoch 5600:\tTrain 0.009511339478194714\tVal 0.4469568729400635\tTest 0.16979138553142548\n",
      "Epoch 5700:\tTrain 0.00923390407115221\tVal 0.44555145502090454\tTest 0.16835008561611176\n",
      "Epoch 5800:\tTrain 0.0089364442974329\tVal 0.44211143255233765\tTest 0.1669386625289917\n",
      "Epoch 5900:\tTrain 0.008701777085661888\tVal 0.4423137605190277\tTest 0.1657349020242691\n",
      "Epoch 6000:\tTrain 0.008466667495667934\tVal 0.4390775263309479\tTest 0.16485917568206787\n",
      "Epoch 6100:\tTrain 0.008239069022238255\tVal 0.4394081234931946\tTest 0.1641797423362732\n",
      "Epoch 6200:\tTrain 0.008017162792384624\tVal 0.4429721236228943\tTest 0.16364379227161407\n",
      "Epoch 6300:\tTrain 0.007825857028365135\tVal 0.44653740525245667\tTest 0.1632472276687622\n",
      "Epoch 6400:\tTrain 0.00762914726510644\tVal 0.4505630433559418\tTest 0.16286610066890717\n",
      "Epoch 6500:\tTrain 0.007430636323988438\tVal 0.4504627287387848\tTest 0.1629793643951416\n",
      "Epoch 6600:\tTrain 0.007239128462970257\tVal 0.4573526382446289\tTest 0.1630297601222992\n",
      "Epoch 6700:\tTrain 0.007044720463454723\tVal 0.45611971616744995\tTest 0.16313333809375763\n",
      "Epoch 6800:\tTrain 0.00687195360660553\tVal 0.469698429107666\tTest 0.16372549533843994\n",
      "Epoch 6900:\tTrain 0.00671546021476388\tVal 0.47072339057922363\tTest 0.16429480910301208\n",
      "Epoch 7000:\tTrain 0.006538087967783213\tVal 0.4773433804512024\tTest 0.16510654985904694\n",
      "Epoch 7100:\tTrain 0.006384930107742548\tVal 0.4837142527103424\tTest 0.1661008596420288\n",
      "Epoch 7200:\tTrain 0.006219112779945135\tVal 0.4845998287200928\tTest 0.16694656014442444\n",
      "Epoch 7300:\tTrain 0.0060844155959784985\tVal 0.49012452363967896\tTest 0.16770793497562408\n",
      "Epoch 7400:\tTrain 0.005941788665950298\tVal 0.4931938648223877\tTest 0.16880571842193604\n",
      "Epoch 7500:\tTrain 0.005778639577329159\tVal 0.49649038910865784\tTest 0.17011438310146332\n",
      "Epoch 7600:\tTrain 0.00564991682767868\tVal 0.4968813955783844\tTest 0.1715240478515625\n",
      "Epoch 7700:\tTrain 0.005526478867977858\tVal 0.4999833106994629\tTest 0.17286169528961182\n",
      "Epoch 7800:\tTrain 0.0053852396085858345\tVal 0.5027858018875122\tTest 0.17419248819351196\n",
      "Epoch 7900:\tTrain 0.005272482521831989\tVal 0.5052971243858337\tTest 0.17558564245700836\n",
      "Epoch 8000:\tTrain 0.005174330435693264\tVal 0.5072753429412842\tTest 0.17762643098831177\n",
      "Epoch 8100:\tTrain 0.005067338701337576\tVal 0.507128894329071\tTest 0.17924153804779053\n"
     ]
    },
    {
     "ename": "KeyboardInterrupt",
     "evalue": "",
     "output_type": "error",
     "traceback": [
      "\u001b[0;31m---------------------------------------------------------------------------\u001b[0m",
      "\u001b[0;31mKeyboardInterrupt\u001b[0m                         Traceback (most recent call last)",
      "\u001b[0;32m<ipython-input-103-c260489b2fb8>\u001b[0m in \u001b[0;36m<module>\u001b[0;34m()\u001b[0m\n\u001b[1;32m      3\u001b[0m     \u001b[0mprint\u001b[0m\u001b[0;34m(\u001b[0m\u001b[0;34m\"Start calculation for {} points.\"\u001b[0m\u001b[0;34m.\u001b[0m\u001b[0mformat\u001b[0m\u001b[0;34m(\u001b[0m\u001b[0mn_points_train_val\u001b[0m\u001b[0;34m)\u001b[0m\u001b[0;34m)\u001b[0m\u001b[0;34m\u001b[0m\u001b[0;34m\u001b[0m\u001b[0m\n\u001b[1;32m      4\u001b[0m     \u001b[0mstarttime\u001b[0m \u001b[0;34m=\u001b[0m \u001b[0mtime\u001b[0m\u001b[0;34m.\u001b[0m\u001b[0mtime\u001b[0m\u001b[0;34m(\u001b[0m\u001b[0;34m)\u001b[0m\u001b[0;34m\u001b[0m\u001b[0;34m\u001b[0m\u001b[0m\n\u001b[0;32m----> 5\u001b[0;31m     \u001b[0mtrain_result\u001b[0m \u001b[0;34m=\u001b[0m \u001b[0mtrain\u001b[0m\u001b[0;34m(\u001b[0m\u001b[0mn_points_train_val\u001b[0m\u001b[0;34m,\u001b[0m \u001b[0ml2_loss\u001b[0m\u001b[0;34m,\u001b[0m \u001b[0mincludeTests\u001b[0m\u001b[0;34m=\u001b[0m\u001b[0;32mTrue\u001b[0m\u001b[0;34m,\u001b[0m \u001b[0mprints\u001b[0m\u001b[0;34m=\u001b[0m\u001b[0;32mTrue\u001b[0m\u001b[0;34m,\u001b[0m \u001b[0mnEpochs\u001b[0m\u001b[0;34m=\u001b[0m\u001b[0;36m15000\u001b[0m\u001b[0;34m)\u001b[0m\u001b[0;34m\u001b[0m\u001b[0;34m\u001b[0m\u001b[0m\n\u001b[0m\u001b[1;32m      6\u001b[0m     \u001b[0mvisualize_train\u001b[0m\u001b[0;34m(\u001b[0m\u001b[0;34m[\u001b[0m\u001b[0mtrain_result\u001b[0m\u001b[0;34m]\u001b[0m\u001b[0;34m)\u001b[0m\u001b[0;34m\u001b[0m\u001b[0;34m\u001b[0m\u001b[0m\n\u001b[1;32m      7\u001b[0m     \u001b[0;32mdel\u001b[0m \u001b[0mtrain_result\u001b[0m\u001b[0;34m[\u001b[0m\u001b[0;34m\"nets\"\u001b[0m\u001b[0;34m]\u001b[0m\u001b[0;34m\u001b[0m\u001b[0;34m\u001b[0m\u001b[0m\n",
      "\u001b[0;32m<ipython-input-95-9a29cffed553>\u001b[0m in \u001b[0;36mtrain\u001b[0;34m(n_points_train_val, loss_fn, includeTests, prints, lastTrainResult, nEpochs)\u001b[0m\n\u001b[1;32m     43\u001b[0m                 \u001b[0;32mfor\u001b[0m \u001b[0mopt\u001b[0m \u001b[0;32min\u001b[0m \u001b[0mopts\u001b[0m\u001b[0;34m[\u001b[0m\u001b[0mfold\u001b[0m\u001b[0;34m]\u001b[0m\u001b[0;34m:\u001b[0m\u001b[0;34m\u001b[0m\u001b[0;34m\u001b[0m\u001b[0m\n\u001b[1;32m     44\u001b[0m                     \u001b[0mopt\u001b[0m\u001b[0;34m.\u001b[0m\u001b[0mzero_grad\u001b[0m\u001b[0;34m(\u001b[0m\u001b[0;34m)\u001b[0m\u001b[0;34m\u001b[0m\u001b[0;34m\u001b[0m\u001b[0m\n\u001b[0;32m---> 45\u001b[0;31m                 \u001b[0mloss\u001b[0m\u001b[0;34m.\u001b[0m\u001b[0mbackward\u001b[0m\u001b[0;34m(\u001b[0m\u001b[0;34m)\u001b[0m\u001b[0;34m\u001b[0m\u001b[0;34m\u001b[0m\u001b[0m\n\u001b[0m\u001b[1;32m     46\u001b[0m                 \u001b[0;32mfor\u001b[0m \u001b[0mopt\u001b[0m \u001b[0;32min\u001b[0m \u001b[0mopts\u001b[0m\u001b[0;34m[\u001b[0m\u001b[0mfold\u001b[0m\u001b[0;34m]\u001b[0m\u001b[0;34m:\u001b[0m\u001b[0;34m\u001b[0m\u001b[0;34m\u001b[0m\u001b[0m\n\u001b[1;32m     47\u001b[0m                     \u001b[0mopt\u001b[0m\u001b[0;34m.\u001b[0m\u001b[0mstep\u001b[0m\u001b[0;34m(\u001b[0m\u001b[0;34m)\u001b[0m\u001b[0;34m\u001b[0m\u001b[0;34m\u001b[0m\u001b[0m\n",
      "\u001b[0;32m/Users/korbinianabstreiter/anaconda/lib/python3.6/site-packages/torch/tensor.py\u001b[0m in \u001b[0;36mbackward\u001b[0;34m(self, gradient, retain_graph, create_graph)\u001b[0m\n\u001b[1;32m    100\u001b[0m                 \u001b[0mproducts\u001b[0m\u001b[0;34m.\u001b[0m \u001b[0mDefaults\u001b[0m \u001b[0mto\u001b[0m\u001b[0;31m \u001b[0m\u001b[0;31m`\u001b[0m\u001b[0;31m`\u001b[0m\u001b[0;32mFalse\u001b[0m\u001b[0;31m`\u001b[0m\u001b[0;31m`\u001b[0m\u001b[0;34m.\u001b[0m\u001b[0;34m\u001b[0m\u001b[0;34m\u001b[0m\u001b[0m\n\u001b[1;32m    101\u001b[0m         \"\"\"\n\u001b[0;32m--> 102\u001b[0;31m         \u001b[0mtorch\u001b[0m\u001b[0;34m.\u001b[0m\u001b[0mautograd\u001b[0m\u001b[0;34m.\u001b[0m\u001b[0mbackward\u001b[0m\u001b[0;34m(\u001b[0m\u001b[0mself\u001b[0m\u001b[0;34m,\u001b[0m \u001b[0mgradient\u001b[0m\u001b[0;34m,\u001b[0m \u001b[0mretain_graph\u001b[0m\u001b[0;34m,\u001b[0m \u001b[0mcreate_graph\u001b[0m\u001b[0;34m)\u001b[0m\u001b[0;34m\u001b[0m\u001b[0;34m\u001b[0m\u001b[0m\n\u001b[0m\u001b[1;32m    103\u001b[0m \u001b[0;34m\u001b[0m\u001b[0m\n\u001b[1;32m    104\u001b[0m     \u001b[0;32mdef\u001b[0m \u001b[0mregister_hook\u001b[0m\u001b[0;34m(\u001b[0m\u001b[0mself\u001b[0m\u001b[0;34m,\u001b[0m \u001b[0mhook\u001b[0m\u001b[0;34m)\u001b[0m\u001b[0;34m:\u001b[0m\u001b[0;34m\u001b[0m\u001b[0;34m\u001b[0m\u001b[0m\n",
      "\u001b[0;32m/Users/korbinianabstreiter/anaconda/lib/python3.6/site-packages/torch/autograd/__init__.py\u001b[0m in \u001b[0;36mbackward\u001b[0;34m(tensors, grad_tensors, retain_graph, create_graph, grad_variables)\u001b[0m\n\u001b[1;32m     88\u001b[0m     Variable._execution_engine.run_backward(\n\u001b[1;32m     89\u001b[0m         \u001b[0mtensors\u001b[0m\u001b[0;34m,\u001b[0m \u001b[0mgrad_tensors\u001b[0m\u001b[0;34m,\u001b[0m \u001b[0mretain_graph\u001b[0m\u001b[0;34m,\u001b[0m \u001b[0mcreate_graph\u001b[0m\u001b[0;34m,\u001b[0m\u001b[0;34m\u001b[0m\u001b[0;34m\u001b[0m\u001b[0m\n\u001b[0;32m---> 90\u001b[0;31m         allow_unreachable=True)  # allow_unreachable flag\n\u001b[0m\u001b[1;32m     91\u001b[0m \u001b[0;34m\u001b[0m\u001b[0m\n\u001b[1;32m     92\u001b[0m \u001b[0;34m\u001b[0m\u001b[0m\n",
      "\u001b[0;31mKeyboardInterrupt\u001b[0m: "
     ]
    }
   ],
   "source": [
    "results_limited_data = []\n",
    "for n_points_train_val in range(1, 36):\n",
    "    print(\"Start calculation for {} points.\".format(n_points_train_val))\n",
    "    starttime = time.time()\n",
    "    train_result = train(n_points_train_val, l2_loss, includeTests=True, prints=True)\n",
    "    results_limited_data.append([n_points_train_val, str(train_result.drop(columns=[\"nets\", \"opts\"])), time.time() - starttime])\n",
    "    if n_points_train_val >= 20 and n_points_train_val % 5 == 0:\n",
    "        df = pd.DataFrame(results_limited_data, columns=[\"n_points_train_val\", \"train_result\", \"execution_time\"])\n",
    "        df.to_csv(\"train_limited_data_results_{}.csv\".format(n_points_train_val), index=False)\n",
    "results_limited_data = pd.DataFrame(results_limited_data, columns=[\"n_points_train_val\", \"train_result\", \"execution_time\"])\n",
    "results_limited_data.to_csv(\"results_limited_data.csv\", index=False)"
   ]
  },
  {
   "cell_type": "code",
   "execution_count": null,
   "metadata": {
    "collapsed": true
   },
   "outputs": [],
   "source": [
    "# results_limited_data = pd.read_csv(\"train_limited_data_results_{}.csv\", index_col=\"n_points_train_val\")\n",
    "# results_limited_data[\"train_result\"] = results.apply(lambda row: eval(row[\"train_result\"]), axis=1)"
   ]
  },
  {
   "cell_type": "markdown",
   "metadata": {},
   "source": [
    "## Add different loss functions"
   ]
  },
  {
   "cell_type": "code",
   "execution_count": 64,
   "metadata": {
    "collapsed": true
   },
   "outputs": [],
   "source": [
    "def norm_loss(y_pred, y_true, rotation_matrix):\n",
    "    return (l2_loss(y_pred, (0,0), np.zeros((2,2))) - 1) ** 2"
   ]
  },
  {
   "cell_type": "code",
   "execution_count": 65,
   "metadata": {
    "collapsed": true
   },
   "outputs": [],
   "source": [
    "def det_loss(y_pred, y_true, rotation_matrix):\n",
    "    det = rotation_matrix[0][0] * rotation_matrix[1][1] - rotation_matrix[0][1] * rotation_matrix[1][0]\n",
    "    return (det - 1) ** 2"
   ]
  },
  {
   "cell_type": "code",
   "execution_count": 66,
   "metadata": {
    "collapsed": true
   },
   "outputs": [],
   "source": [
    "# first weight is for l2_loss, second weight for det_loss, third for norm loss\n",
    "def get_mixed_lossfn(weigths):\n",
    "    def mixed_loss(y_pred, y_true, rotation_matrix):\n",
    "        l0 = l2_loss(y_pred, y_true, rotation_matrix)\n",
    "        l1 = det_loss(y_pred, y_true, rotation_matrix)\n",
    "        l2 = norm_loss(y_pred, y_true, rotation_matrix)\n",
    "        return weigths[0] * l0 + weigths[1] * l1 + weigths[2] * l2\n",
    "    return mixed_loss"
   ]
  },
  {
   "cell_type": "code",
   "execution_count": null,
   "metadata": {
    "collapsed": true
   },
   "outputs": [],
   "source": [
    "# Choose a specific number of points to further experiment with\n",
    "n_points_train_val = 11"
   ]
  },
  {
   "cell_type": "code",
   "execution_count": 34,
   "metadata": {
    "scrolled": false
   },
   "outputs": [],
   "source": [
    "# train_result_mixed = train(n_points_train_val, get_mixed_lossfn((1, 2, 0.2)), includeTests=True, prints=True)"
   ]
  },
  {
   "cell_type": "code",
   "execution_count": null,
   "metadata": {
    "collapsed": true
   },
   "outputs": [],
   "source": [
    "visualize_train([results[\"train_result\"][n_points_train_val], train_result_mixed])"
   ]
  },
  {
   "cell_type": "markdown",
   "metadata": {},
   "source": [
    "Results: \n",
    "(1, 2, 0.2) is better, converges to 0.08 test loss\n",
    "(1, 2, 8) is worse\n",
    "(1, 4, 0.2) really bad"
   ]
  },
  {
   "cell_type": "markdown",
   "metadata": {},
   "source": [
    "# NEXT: Try different weights, try dynamically changing loss functions"
   ]
  }
 ],
 "metadata": {
  "kernelspec": {
   "display_name": "Python 3",
   "language": "python",
   "name": "python3"
  },
  "language_info": {
   "codemirror_mode": {
    "name": "ipython",
    "version": 3
   },
   "file_extension": ".py",
   "mimetype": "text/x-python",
   "name": "python",
   "nbconvert_exporter": "python",
   "pygments_lexer": "ipython3",
   "version": "3.6.8"
  }
 },
 "nbformat": 4,
 "nbformat_minor": 2
}
